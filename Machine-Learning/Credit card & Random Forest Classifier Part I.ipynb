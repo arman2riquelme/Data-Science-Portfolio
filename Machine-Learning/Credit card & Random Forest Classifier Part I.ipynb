{
 "cells": [
  {
   "cell_type": "markdown",
   "metadata": {
    "id": "9OBvBOCkPrga"
   },
   "source": [
    "## MNIST Random Forest Classifier"
   ]
  },
  {
   "cell_type": "markdown",
   "metadata": {
    "id": "bEmSTWZSPrgb"
   },
   "source": [
    "This assignment is based on content discussed in module 8 and using Decision Trees and Ensemble Models in classification and regression problems."
   ]
  },
  {
   "cell_type": "markdown",
   "metadata": {
    "id": "1cUoTzQLPrgc"
   },
   "source": [
    "## Learning outcomes "
   ]
  },
  {
   "cell_type": "markdown",
   "metadata": {
    "id": "Q1ygYVo_Prgc"
   },
   "source": [
    "- Understand how to use decision trees on a Dataset to make a prediction\n",
    "- Learning hyper-parameters tuning for decision trees by using RandomGrid \n",
    "- Learning the effectiveness of ensemble algorithms (Random Forest, Adaboost, Extra trees classifier, Gradient Boosted Tree)"
   ]
  },
  {
   "cell_type": "markdown",
   "metadata": {
    "id": "9hjVbQlVPrgd"
   },
   "source": [
    "In the first part of this assignment, you will use Classification Trees for predicting if a user has a default payment option active or not. You can find the necessary data for performing this assignment [here](https://archive.ics.uci.edu/ml/datasets/default+of+credit+card+clients) \n",
    "\n",
    "This dataset is aimed at the case of customer default payments in Taiwan. From the perspective of risk management, the result of predictive accuracy of the estimated probability of default will be more valuable than the binary result of classification - credible or not credible clients. Because the real probability of default is unknown, this study presented the novel Sorting Smoothing Method to estimate the real probability of default.\n",
    "\n",
    "Required imports for this project are given below. Make sure you have all libraries required for this project installed. You may use conda or pip based on your set up.\n",
    "\n",
    "__NOTE:__ Since data is in Excel format you need to install `xlrd` in order to read the excel file inside your pandas dataframe. You can run `pip install xlrd` to install "
   ]
  },
  {
   "cell_type": "code",
   "execution_count": null,
   "metadata": {
    "id": "R376ZBnBPrge"
   },
   "outputs": [],
   "source": [
    "#required imports\n",
    "import numpy as np\n",
    "import pandas as pd\n",
    "import matplotlib.pyplot as plt\n",
    "from sklearn.model_selection import RandomizedSearchCV\n",
    "from scipy.stats import randint\n",
    "from sklearn.metrics import confusion_matrix\n",
    "from sklearn.ensemble import RandomForestClassifier, AdaBoostClassifier, ExtraTreesClassifier, GradientBoostingClassifier\n",
    "from sklearn.model_selection import learning_curve\n",
    "from sklearn.model_selection import train_test_split"
   ]
  },
  {
   "cell_type": "markdown",
   "metadata": {
    "id": "ddF9R5pdPrgi"
   },
   "source": [
    "After installing the necessary libraries, proceed to download the data. Since reading the excel file won't create headers by default, we added two more operations to substitute the columns."
   ]
  },
  {
   "cell_type": "code",
   "execution_count": null,
   "metadata": {
    "id": "CtNCjjr7Prgj",
    "scrolled": true
   },
   "outputs": [],
   "source": [
    "#loading the data\n",
    "dataset = pd.read_excel(\"https://archive.ics.uci.edu/ml/machine-learning-databases/00350/default%20of%20credit%20card%20clients.xls\", header=1)\n",
    "dataset.drop(['ID'], axis=1, inplace=True)"
   ]
  },
  {
   "cell_type": "markdown",
   "metadata": {
    "id": "cMh-sEIdPrgl"
   },
   "source": [
    "In the following, you can take a look into the dataset."
   ]
  },
  {
   "cell_type": "code",
   "execution_count": null,
   "metadata": {
    "colab": {
     "base_uri": "https://localhost:8080/",
     "height": 392
    },
    "id": "E0lAPOXQPrgl",
    "outputId": "703356e3-ae20-439e-e3d6-8c78401326a4"
   },
   "outputs": [
    {
     "data": {
      "text/html": [
       "\n",
       "  <div id=\"df-a59613d2-9bf5-41f0-8e33-25c8ba86d1f1\">\n",
       "    <div class=\"colab-df-container\">\n",
       "      <div>\n",
       "<style scoped>\n",
       "    .dataframe tbody tr th:only-of-type {\n",
       "        vertical-align: middle;\n",
       "    }\n",
       "\n",
       "    .dataframe tbody tr th {\n",
       "        vertical-align: top;\n",
       "    }\n",
       "\n",
       "    .dataframe thead th {\n",
       "        text-align: right;\n",
       "    }\n",
       "</style>\n",
       "<table border=\"1\" class=\"dataframe\">\n",
       "  <thead>\n",
       "    <tr style=\"text-align: right;\">\n",
       "      <th></th>\n",
       "      <th>LIMIT_BAL</th>\n",
       "      <th>SEX</th>\n",
       "      <th>EDUCATION</th>\n",
       "      <th>MARRIAGE</th>\n",
       "      <th>AGE</th>\n",
       "      <th>PAY_0</th>\n",
       "      <th>PAY_2</th>\n",
       "      <th>PAY_3</th>\n",
       "      <th>PAY_4</th>\n",
       "      <th>PAY_5</th>\n",
       "      <th>...</th>\n",
       "      <th>BILL_AMT4</th>\n",
       "      <th>BILL_AMT5</th>\n",
       "      <th>BILL_AMT6</th>\n",
       "      <th>PAY_AMT1</th>\n",
       "      <th>PAY_AMT2</th>\n",
       "      <th>PAY_AMT3</th>\n",
       "      <th>PAY_AMT4</th>\n",
       "      <th>PAY_AMT5</th>\n",
       "      <th>PAY_AMT6</th>\n",
       "      <th>default payment next month</th>\n",
       "    </tr>\n",
       "  </thead>\n",
       "  <tbody>\n",
       "    <tr>\n",
       "      <th>0</th>\n",
       "      <td>20000</td>\n",
       "      <td>2</td>\n",
       "      <td>2</td>\n",
       "      <td>1</td>\n",
       "      <td>24</td>\n",
       "      <td>2</td>\n",
       "      <td>2</td>\n",
       "      <td>-1</td>\n",
       "      <td>-1</td>\n",
       "      <td>-2</td>\n",
       "      <td>...</td>\n",
       "      <td>0</td>\n",
       "      <td>0</td>\n",
       "      <td>0</td>\n",
       "      <td>0</td>\n",
       "      <td>689</td>\n",
       "      <td>0</td>\n",
       "      <td>0</td>\n",
       "      <td>0</td>\n",
       "      <td>0</td>\n",
       "      <td>1</td>\n",
       "    </tr>\n",
       "    <tr>\n",
       "      <th>1</th>\n",
       "      <td>120000</td>\n",
       "      <td>2</td>\n",
       "      <td>2</td>\n",
       "      <td>2</td>\n",
       "      <td>26</td>\n",
       "      <td>-1</td>\n",
       "      <td>2</td>\n",
       "      <td>0</td>\n",
       "      <td>0</td>\n",
       "      <td>0</td>\n",
       "      <td>...</td>\n",
       "      <td>3272</td>\n",
       "      <td>3455</td>\n",
       "      <td>3261</td>\n",
       "      <td>0</td>\n",
       "      <td>1000</td>\n",
       "      <td>1000</td>\n",
       "      <td>1000</td>\n",
       "      <td>0</td>\n",
       "      <td>2000</td>\n",
       "      <td>1</td>\n",
       "    </tr>\n",
       "    <tr>\n",
       "      <th>2</th>\n",
       "      <td>90000</td>\n",
       "      <td>2</td>\n",
       "      <td>2</td>\n",
       "      <td>2</td>\n",
       "      <td>34</td>\n",
       "      <td>0</td>\n",
       "      <td>0</td>\n",
       "      <td>0</td>\n",
       "      <td>0</td>\n",
       "      <td>0</td>\n",
       "      <td>...</td>\n",
       "      <td>14331</td>\n",
       "      <td>14948</td>\n",
       "      <td>15549</td>\n",
       "      <td>1518</td>\n",
       "      <td>1500</td>\n",
       "      <td>1000</td>\n",
       "      <td>1000</td>\n",
       "      <td>1000</td>\n",
       "      <td>5000</td>\n",
       "      <td>0</td>\n",
       "    </tr>\n",
       "    <tr>\n",
       "      <th>3</th>\n",
       "      <td>50000</td>\n",
       "      <td>2</td>\n",
       "      <td>2</td>\n",
       "      <td>1</td>\n",
       "      <td>37</td>\n",
       "      <td>0</td>\n",
       "      <td>0</td>\n",
       "      <td>0</td>\n",
       "      <td>0</td>\n",
       "      <td>0</td>\n",
       "      <td>...</td>\n",
       "      <td>28314</td>\n",
       "      <td>28959</td>\n",
       "      <td>29547</td>\n",
       "      <td>2000</td>\n",
       "      <td>2019</td>\n",
       "      <td>1200</td>\n",
       "      <td>1100</td>\n",
       "      <td>1069</td>\n",
       "      <td>1000</td>\n",
       "      <td>0</td>\n",
       "    </tr>\n",
       "    <tr>\n",
       "      <th>4</th>\n",
       "      <td>50000</td>\n",
       "      <td>1</td>\n",
       "      <td>2</td>\n",
       "      <td>1</td>\n",
       "      <td>57</td>\n",
       "      <td>-1</td>\n",
       "      <td>0</td>\n",
       "      <td>-1</td>\n",
       "      <td>0</td>\n",
       "      <td>0</td>\n",
       "      <td>...</td>\n",
       "      <td>20940</td>\n",
       "      <td>19146</td>\n",
       "      <td>19131</td>\n",
       "      <td>2000</td>\n",
       "      <td>36681</td>\n",
       "      <td>10000</td>\n",
       "      <td>9000</td>\n",
       "      <td>689</td>\n",
       "      <td>679</td>\n",
       "      <td>0</td>\n",
       "    </tr>\n",
       "    <tr>\n",
       "      <th>5</th>\n",
       "      <td>50000</td>\n",
       "      <td>1</td>\n",
       "      <td>1</td>\n",
       "      <td>2</td>\n",
       "      <td>37</td>\n",
       "      <td>0</td>\n",
       "      <td>0</td>\n",
       "      <td>0</td>\n",
       "      <td>0</td>\n",
       "      <td>0</td>\n",
       "      <td>...</td>\n",
       "      <td>19394</td>\n",
       "      <td>19619</td>\n",
       "      <td>20024</td>\n",
       "      <td>2500</td>\n",
       "      <td>1815</td>\n",
       "      <td>657</td>\n",
       "      <td>1000</td>\n",
       "      <td>1000</td>\n",
       "      <td>800</td>\n",
       "      <td>0</td>\n",
       "    </tr>\n",
       "    <tr>\n",
       "      <th>6</th>\n",
       "      <td>500000</td>\n",
       "      <td>1</td>\n",
       "      <td>1</td>\n",
       "      <td>2</td>\n",
       "      <td>29</td>\n",
       "      <td>0</td>\n",
       "      <td>0</td>\n",
       "      <td>0</td>\n",
       "      <td>0</td>\n",
       "      <td>0</td>\n",
       "      <td>...</td>\n",
       "      <td>542653</td>\n",
       "      <td>483003</td>\n",
       "      <td>473944</td>\n",
       "      <td>55000</td>\n",
       "      <td>40000</td>\n",
       "      <td>38000</td>\n",
       "      <td>20239</td>\n",
       "      <td>13750</td>\n",
       "      <td>13770</td>\n",
       "      <td>0</td>\n",
       "    </tr>\n",
       "    <tr>\n",
       "      <th>7</th>\n",
       "      <td>100000</td>\n",
       "      <td>2</td>\n",
       "      <td>2</td>\n",
       "      <td>2</td>\n",
       "      <td>23</td>\n",
       "      <td>0</td>\n",
       "      <td>-1</td>\n",
       "      <td>-1</td>\n",
       "      <td>0</td>\n",
       "      <td>0</td>\n",
       "      <td>...</td>\n",
       "      <td>221</td>\n",
       "      <td>-159</td>\n",
       "      <td>567</td>\n",
       "      <td>380</td>\n",
       "      <td>601</td>\n",
       "      <td>0</td>\n",
       "      <td>581</td>\n",
       "      <td>1687</td>\n",
       "      <td>1542</td>\n",
       "      <td>0</td>\n",
       "    </tr>\n",
       "    <tr>\n",
       "      <th>8</th>\n",
       "      <td>140000</td>\n",
       "      <td>2</td>\n",
       "      <td>3</td>\n",
       "      <td>1</td>\n",
       "      <td>28</td>\n",
       "      <td>0</td>\n",
       "      <td>0</td>\n",
       "      <td>2</td>\n",
       "      <td>0</td>\n",
       "      <td>0</td>\n",
       "      <td>...</td>\n",
       "      <td>12211</td>\n",
       "      <td>11793</td>\n",
       "      <td>3719</td>\n",
       "      <td>3329</td>\n",
       "      <td>0</td>\n",
       "      <td>432</td>\n",
       "      <td>1000</td>\n",
       "      <td>1000</td>\n",
       "      <td>1000</td>\n",
       "      <td>0</td>\n",
       "    </tr>\n",
       "    <tr>\n",
       "      <th>9</th>\n",
       "      <td>20000</td>\n",
       "      <td>1</td>\n",
       "      <td>3</td>\n",
       "      <td>2</td>\n",
       "      <td>35</td>\n",
       "      <td>-2</td>\n",
       "      <td>-2</td>\n",
       "      <td>-2</td>\n",
       "      <td>-2</td>\n",
       "      <td>-1</td>\n",
       "      <td>...</td>\n",
       "      <td>0</td>\n",
       "      <td>13007</td>\n",
       "      <td>13912</td>\n",
       "      <td>0</td>\n",
       "      <td>0</td>\n",
       "      <td>0</td>\n",
       "      <td>13007</td>\n",
       "      <td>1122</td>\n",
       "      <td>0</td>\n",
       "      <td>0</td>\n",
       "    </tr>\n",
       "  </tbody>\n",
       "</table>\n",
       "<p>10 rows × 24 columns</p>\n",
       "</div>\n",
       "      <button class=\"colab-df-convert\" onclick=\"convertToInteractive('df-a59613d2-9bf5-41f0-8e33-25c8ba86d1f1')\"\n",
       "              title=\"Convert this dataframe to an interactive table.\"\n",
       "              style=\"display:none;\">\n",
       "        \n",
       "  <svg xmlns=\"http://www.w3.org/2000/svg\" height=\"24px\"viewBox=\"0 0 24 24\"\n",
       "       width=\"24px\">\n",
       "    <path d=\"M0 0h24v24H0V0z\" fill=\"none\"/>\n",
       "    <path d=\"M18.56 5.44l.94 2.06.94-2.06 2.06-.94-2.06-.94-.94-2.06-.94 2.06-2.06.94zm-11 1L8.5 8.5l.94-2.06 2.06-.94-2.06-.94L8.5 2.5l-.94 2.06-2.06.94zm10 10l.94 2.06.94-2.06 2.06-.94-2.06-.94-.94-2.06-.94 2.06-2.06.94z\"/><path d=\"M17.41 7.96l-1.37-1.37c-.4-.4-.92-.59-1.43-.59-.52 0-1.04.2-1.43.59L10.3 9.45l-7.72 7.72c-.78.78-.78 2.05 0 2.83L4 21.41c.39.39.9.59 1.41.59.51 0 1.02-.2 1.41-.59l7.78-7.78 2.81-2.81c.8-.78.8-2.07 0-2.86zM5.41 20L4 18.59l7.72-7.72 1.47 1.35L5.41 20z\"/>\n",
       "  </svg>\n",
       "      </button>\n",
       "      \n",
       "  <style>\n",
       "    .colab-df-container {\n",
       "      display:flex;\n",
       "      flex-wrap:wrap;\n",
       "      gap: 12px;\n",
       "    }\n",
       "\n",
       "    .colab-df-convert {\n",
       "      background-color: #E8F0FE;\n",
       "      border: none;\n",
       "      border-radius: 50%;\n",
       "      cursor: pointer;\n",
       "      display: none;\n",
       "      fill: #1967D2;\n",
       "      height: 32px;\n",
       "      padding: 0 0 0 0;\n",
       "      width: 32px;\n",
       "    }\n",
       "\n",
       "    .colab-df-convert:hover {\n",
       "      background-color: #E2EBFA;\n",
       "      box-shadow: 0px 1px 2px rgba(60, 64, 67, 0.3), 0px 1px 3px 1px rgba(60, 64, 67, 0.15);\n",
       "      fill: #174EA6;\n",
       "    }\n",
       "\n",
       "    [theme=dark] .colab-df-convert {\n",
       "      background-color: #3B4455;\n",
       "      fill: #D2E3FC;\n",
       "    }\n",
       "\n",
       "    [theme=dark] .colab-df-convert:hover {\n",
       "      background-color: #434B5C;\n",
       "      box-shadow: 0px 1px 3px 1px rgba(0, 0, 0, 0.15);\n",
       "      filter: drop-shadow(0px 1px 2px rgba(0, 0, 0, 0.3));\n",
       "      fill: #FFFFFF;\n",
       "    }\n",
       "  </style>\n",
       "\n",
       "      <script>\n",
       "        const buttonEl =\n",
       "          document.querySelector('#df-a59613d2-9bf5-41f0-8e33-25c8ba86d1f1 button.colab-df-convert');\n",
       "        buttonEl.style.display =\n",
       "          google.colab.kernel.accessAllowed ? 'block' : 'none';\n",
       "\n",
       "        async function convertToInteractive(key) {\n",
       "          const element = document.querySelector('#df-a59613d2-9bf5-41f0-8e33-25c8ba86d1f1');\n",
       "          const dataTable =\n",
       "            await google.colab.kernel.invokeFunction('convertToInteractive',\n",
       "                                                     [key], {});\n",
       "          if (!dataTable) return;\n",
       "\n",
       "          const docLinkHtml = 'Like what you see? Visit the ' +\n",
       "            '<a target=\"_blank\" href=https://colab.research.google.com/notebooks/data_table.ipynb>data table notebook</a>'\n",
       "            + ' to learn more about interactive tables.';\n",
       "          element.innerHTML = '';\n",
       "          dataTable['output_type'] = 'display_data';\n",
       "          await google.colab.output.renderOutput(dataTable, element);\n",
       "          const docLink = document.createElement('div');\n",
       "          docLink.innerHTML = docLinkHtml;\n",
       "          element.appendChild(docLink);\n",
       "        }\n",
       "      </script>\n",
       "    </div>\n",
       "  </div>\n",
       "  "
      ],
      "text/plain": [
       "   LIMIT_BAL  SEX  EDUCATION  MARRIAGE  AGE  PAY_0  PAY_2  PAY_3  PAY_4  \\\n",
       "0      20000    2          2         1   24      2      2     -1     -1   \n",
       "1     120000    2          2         2   26     -1      2      0      0   \n",
       "2      90000    2          2         2   34      0      0      0      0   \n",
       "3      50000    2          2         1   37      0      0      0      0   \n",
       "4      50000    1          2         1   57     -1      0     -1      0   \n",
       "5      50000    1          1         2   37      0      0      0      0   \n",
       "6     500000    1          1         2   29      0      0      0      0   \n",
       "7     100000    2          2         2   23      0     -1     -1      0   \n",
       "8     140000    2          3         1   28      0      0      2      0   \n",
       "9      20000    1          3         2   35     -2     -2     -2     -2   \n",
       "\n",
       "   PAY_5  ...  BILL_AMT4  BILL_AMT5  BILL_AMT6  PAY_AMT1  PAY_AMT2  PAY_AMT3  \\\n",
       "0     -2  ...          0          0          0         0       689         0   \n",
       "1      0  ...       3272       3455       3261         0      1000      1000   \n",
       "2      0  ...      14331      14948      15549      1518      1500      1000   \n",
       "3      0  ...      28314      28959      29547      2000      2019      1200   \n",
       "4      0  ...      20940      19146      19131      2000     36681     10000   \n",
       "5      0  ...      19394      19619      20024      2500      1815       657   \n",
       "6      0  ...     542653     483003     473944     55000     40000     38000   \n",
       "7      0  ...        221       -159        567       380       601         0   \n",
       "8      0  ...      12211      11793       3719      3329         0       432   \n",
       "9     -1  ...          0      13007      13912         0         0         0   \n",
       "\n",
       "   PAY_AMT4  PAY_AMT5  PAY_AMT6  default payment next month  \n",
       "0         0         0         0                           1  \n",
       "1      1000         0      2000                           1  \n",
       "2      1000      1000      5000                           0  \n",
       "3      1100      1069      1000                           0  \n",
       "4      9000       689       679                           0  \n",
       "5      1000      1000       800                           0  \n",
       "6     20239     13750     13770                           0  \n",
       "7       581      1687      1542                           0  \n",
       "8      1000      1000      1000                           0  \n",
       "9     13007      1122         0                           0  \n",
       "\n",
       "[10 rows x 24 columns]"
      ]
     },
     "execution_count": 5,
     "metadata": {},
     "output_type": "execute_result"
    }
   ],
   "source": [
    "dataset.head(10)"
   ]
  },
  {
   "cell_type": "markdown",
   "metadata": {
    "id": "r4jchSRoPrgr"
   },
   "source": [
    "## Questions \n",
    "\n",
    "#### Question 1 \n",
    "Build a classifier by using decision tree and calculate the confusion matrix. Try different hyper-parameters (at least two) and discuss the result."
   ]
  },
  {
   "cell_type": "code",
   "execution_count": null,
   "metadata": {
    "colab": {
     "base_uri": "https://localhost:8080/"
    },
    "id": "1Qr1SPGlPrgr",
    "outputId": "b66ad2e2-8270-4da2-a789-d8a4e9421cb7"
   },
   "outputs": [
    {
     "name": "stdout",
     "output_type": "stream",
     "text": [
      "Confusion matrix:\n",
      "[[4452  235]\n",
      " [ 838  475]]\n"
     ]
    }
   ],
   "source": [
    "from sklearn.tree import DecisionTreeClassifier\n",
    "from sklearn.metrics import confusion_matrix\n",
    "from sklearn.model_selection import train_test_split\n",
    "\n",
    "# Define the features and target variable\n",
    "X = dataset.drop('default payment next month', axis=1)\n",
    "y = dataset['default payment next month']\n",
    "\n",
    "# Split the dataset into training and testing sets\n",
    "X_train, X_test, y_train, y_test = train_test_split(X, y, test_size=0.2, random_state=42)\n",
    "\n",
    "# Build a decision tree classifier with max depth of 3 and min_samples_split of 5\n",
    "dt_clf = DecisionTreeClassifier(max_depth=3, min_samples_split=5, random_state=42)\n",
    "dt_clf.fit(X_train, y_train)\n",
    "\n",
    "# Predict the labels of the test set\n",
    "y_pred = dt_clf.predict(X_test)\n",
    "\n",
    "# Calculate the confusion matrix\n",
    "cm = confusion_matrix(y_test, y_pred)\n",
    "print(\"Confusion matrix:\")\n",
    "print(cm)\n"
   ]
  },
  {
   "cell_type": "code",
   "execution_count": null,
   "metadata": {
    "colab": {
     "base_uri": "https://localhost:8080/"
    },
    "id": "WiiZm-Z7LAnM",
    "outputId": "4a1e7a49-5bd4-4f8a-aafa-d8c8b51e5513"
   },
   "outputs": [
    {
     "name": "stdout",
     "output_type": "stream",
     "text": [
      "Precision: 66.90%\n",
      "Recall: 36.18%\n",
      "F1 score: 46.96%\n"
     ]
    }
   ],
   "source": [
    "from sklearn.metrics import precision_score, recall_score, f1_score\n",
    "# Calculate precision, recall, and F1 score\n",
    "precision = precision_score(y_test, y_pred)\n",
    "recall = recall_score(y_test, y_pred)\n",
    "f1 = f1_score(y_test, y_pred)\n",
    "\n",
    "print(\"Precision: {:.2f}%\".format(precision*100))\n",
    "print(\"Recall: {:.2f}%\".format(recall*100))\n",
    "print(\"F1 score: {:.2f}%\".format(f1*100))"
   ]
  },
  {
   "cell_type": "markdown",
   "metadata": {
    "id": "Z5CjZtnbMOop"
   },
   "source": [
    "### I can see that:\n",
    "\n",
    "### True Negatives (TN): There were 4,452 clients who did not default on their credit card payments and the classifier correctly predicted that they would not default.\n",
    "### False Positives (FP): There were 235 clients who did not default on their credit card payments, but the classifier incorrectly predicted that they would default.\n",
    "### False Negatives (FN): There were 838 clients who defaulted on their credit card payments, but the classifier incorrectly predicted that they would not default.\n",
    "### True Positives (TP): There were 475 clients who defaulted on their credit card payments and the classifier correctly predicted that they would default.\n",
    "\n",
    "### The performance metrics for the decision tree classifier show: 80.97% is the proportion of true results (both true positives and true negatives),  66.88% is the proportion of true positives among the total number of positive predictions, 36.16% is the proportion of true positives among the total number of actual positives, and 46.96% is the harmonic mean of precision and recall\n",
    "\n",
    "### Overall, the performance of the decision tree classifier you trained is decent, but there is definitely room for improvement like try different hyperparameters and using using regularization techniques. "
   ]
  },
  {
   "cell_type": "markdown",
   "metadata": {
    "id": "GWKt6ZPuulhq"
   },
   "source": [
    "### The best test accuracy is 81.90% with max_depth=5 and min_samples_split=2, 5 or 10. Explanation: I compared the test accuracy of different combinations of hyper-parameters and found that increasing the max_depth or decreasing the min_samples_split did not improve the performance"
   ]
  },
  {
   "cell_type": "markdown",
   "metadata": {
    "id": "QwcecRukPrgw"
   },
   "source": [
    "#### Question 2\n",
    "\n",
    "Try to build the decision tree which you built for the previous question, but this time by RandomizedSearchCV over hyper-parameters. Compare the results."
   ]
  },
  {
   "cell_type": "code",
   "execution_count": null,
   "metadata": {
    "colab": {
     "base_uri": "https://localhost:8080/"
    },
    "id": "4XHRmsWOPrgx",
    "outputId": "27ee320d-a713-42c1-ff59-cecfb6c43ccd"
   },
   "outputs": [
    {
     "name": "stdout",
     "output_type": "stream",
     "text": [
      "Best hyper-parameters: {'criterion': 'gini', 'max_depth': 4, 'max_features': None, 'min_samples_leaf': 6, 'min_samples_split': 9}\n",
      "Best accuracy score: 82.13%\n",
      "Confusion matrix:\n",
      " [[4453  234]\n",
      " [ 840  473]]\n"
     ]
    }
   ],
   "source": [
    "from sklearn.model_selection import RandomizedSearchCV\n",
    "from scipy.stats import randint\n",
    "\n",
    "# Define the hyper-parameters to search over\n",
    "params = {\n",
    "    'criterion': ['gini', 'entropy'],\n",
    "    'max_depth': randint(2, 20),\n",
    "    'min_samples_split': randint(2, 20),\n",
    "    'min_samples_leaf': randint(1, 10),\n",
    "    'max_features': ['sqrt', 'log2', None]\n",
    "}\n",
    "\n",
    "# Create a decision tree classifier object\n",
    "tree_clf = DecisionTreeClassifier(random_state=42)\n",
    "\n",
    "# Create a randomized search object\n",
    "random_search = RandomizedSearchCV(\n",
    "    tree_clf, params, n_iter=50, cv=5, scoring='accuracy', random_state=42\n",
    ")\n",
    "\n",
    "# Fit the randomized search object to the training data\n",
    "random_search.fit(X_train, y_train)\n",
    "\n",
    "# Print the best hyper-parameters and their accuracy score\n",
    "print(\"Best hyper-parameters: {}\".format(random_search.best_params_))\n",
    "print(\"Best accuracy score: {:.2f}%\".format(random_search.best_score_ * 100))\n",
    "\n",
    "# Make predictions on the test data using the best model\n",
    "y_pred = random_search.predict(X_test)\n",
    "\n",
    "# Calculate the confusion matrix\n",
    "conf_mat = confusion_matrix(y_test, y_pred)\n",
    "print(\"Confusion matrix:\\n\", conf_mat)"
   ]
  },
  {
   "cell_type": "code",
   "execution_count": null,
   "metadata": {
    "id": "tbZ_MZUYulhr",
    "outputId": "5c0cf138-eead-497d-91ec-9d7569bb93dc",
    "scrolled": true
   },
   "outputs": [
    {
     "name": "stdout",
     "output_type": "stream",
     "text": [
      "Hyper-parameters: max_depth=5, min_samples_split=2\n",
      "Test accuracy: 81.90%\n",
      "Confusion matrix:\n",
      " [[4431  256]\n",
      " [ 830  483]]\n",
      "----------------------------------------------------\n",
      "Hyper-parameters: max_depth=5, min_samples_split=5\n",
      "Test accuracy: 81.90%\n",
      "Confusion matrix:\n",
      " [[4431  256]\n",
      " [ 830  483]]\n",
      "----------------------------------------------------\n",
      "Hyper-parameters: max_depth=5, min_samples_split=10\n",
      "Test accuracy: 81.90%\n",
      "Confusion matrix:\n",
      " [[4431  256]\n",
      " [ 830  483]]\n",
      "----------------------------------------------------\n",
      "Hyper-parameters: max_depth=10, min_samples_split=2\n",
      "Test accuracy: 81.13%\n",
      "Confusion matrix:\n",
      " [[4409  278]\n",
      " [ 854  459]]\n",
      "----------------------------------------------------\n",
      "Hyper-parameters: max_depth=10, min_samples_split=5\n",
      "Test accuracy: 81.13%\n",
      "Confusion matrix:\n",
      " [[4409  278]\n",
      " [ 854  459]]\n",
      "----------------------------------------------------\n",
      "Hyper-parameters: max_depth=10, min_samples_split=10\n",
      "Test accuracy: 81.17%\n",
      "Confusion matrix:\n",
      " [[4411  276]\n",
      " [ 854  459]]\n",
      "----------------------------------------------------\n",
      "Hyper-parameters: max_depth=15, min_samples_split=2\n",
      "Test accuracy: 79.08%\n",
      "Confusion matrix:\n",
      " [[4260  427]\n",
      " [ 828  485]]\n",
      "----------------------------------------------------\n",
      "Hyper-parameters: max_depth=15, min_samples_split=5\n",
      "Test accuracy: 79.02%\n",
      "Confusion matrix:\n",
      " [[4260  427]\n",
      " [ 832  481]]\n",
      "----------------------------------------------------\n",
      "Hyper-parameters: max_depth=15, min_samples_split=10\n",
      "Test accuracy: 78.97%\n",
      "Confusion matrix:\n",
      " [[4259  428]\n",
      " [ 834  479]]\n",
      "----------------------------------------------------\n"
     ]
    }
   ],
   "source": [
    "from sklearn.metrics import confusion_matrix\n",
    "\n",
    "# Define hyper-parameters to test\n",
    "max_depths = [5, 10, 15]\n",
    "min_samples_splits = [2, 5, 10]\n",
    "\n",
    "# Loop over hyper-parameters\n",
    "for max_depth in max_depths:\n",
    "    for min_samples_split in min_samples_splits:\n",
    "        \n",
    "        # Train the decision tree classifier with the current hyper-parameters\n",
    "        dt_clf = DecisionTreeClassifier(max_depth=max_depth, min_samples_split=min_samples_split, random_state=42)\n",
    "        dt_clf.fit(X_train, y_train)\n",
    "        \n",
    "        # Evaluate the classifier on the test set\n",
    "        y_pred = dt_clf.predict(X_test)\n",
    "        accuracy = dt_clf.score(X_test, y_test)\n",
    "        cm = confusion_matrix(y_test, y_pred)\n",
    "        \n",
    "        # Print the results\n",
    "        print(\"Hyper-parameters: max_depth={}, min_samples_split={}\".format(max_depth, min_samples_split))\n",
    "        print(\"Test accuracy: {:.2f}%\".format(accuracy * 100))\n",
    "        print(\"Confusion matrix:\\n\", cm)\n",
    "        print(\"----------------------------------------------------\")\n"
   ]
  },
  {
   "cell_type": "markdown",
   "metadata": {
    "id": "90mg5uoHulhr"
   },
   "source": [
    "### The RandomizedSearchCV method is more efficient and convenient than the manual loop method because it can search over a larger space of hyper-parameters in a random way and return the best ones automatically. This method is particularly useful when dealing with a large number of hyper-parameters, as it eliminates the need to manually specify a list of values for each hyper-parameter and compare them one by one.\n",
    "\n",
    "### In this particular case, the RandomizedSearchCV method returned the best hyper-parameters as {'criterion': 'gini', 'max_depth': 4, 'max_features': None, 'min_samples_leaf': 6, 'min_samples_split': 9}, with a best accuracy score of 82.13%. On the other hand, when using the manual loop method to test hyper-parameters, the best test accuracy achieved was 81.90%, with max_depth=5 and min_samples_split=2, 5, or 10.\n",
    "\n",
    "### It is worth noting that increasing the max_depth or decreasing the min_samples_split did not significantly improve the performance of the model beyond a certain point. This indicates that a more complex decision tree model may not necessarily lead to better results, and that finding the optimal balance between bias and variance is crucial when building decision trees. Overall, the RandomizedSearchCV method proved to be a more efficient and effective way of optimizing hyper-parameters for the decision tree model"
   ]
  },
  {
   "cell_type": "markdown",
   "metadata": {
    "id": "dEvsYwiXPrg3"
   },
   "source": [
    "### Question 3\n",
    "\n",
    "Try to build the same classifier by using following ensemble models. For each of these models calculate accuracy and at least for two in the list below, plot the learning curves.\n",
    "\n",
    "* Random Forest \n",
    "* AdaBoost\n",
    "* Extra Trees Classifier \n",
    "* Gradient Boosted Trees \n"
   ]
  },
  {
   "cell_type": "code",
   "execution_count": null,
   "metadata": {
    "colab": {
     "base_uri": "https://localhost:8080/",
     "height": 364
    },
    "id": "0uATyt0hd-rf",
    "outputId": "257fa21b-fe26-4c66-ab9c-947622803c40"
   },
   "outputs": [
    {
     "name": "stdout",
     "output_type": "stream",
     "text": [
      "Random Forest accuracy: 81.60%\n",
      "AdaBoost accuracy: 81.67%\n",
      "Extra Trees accuracy: 81.27%\n",
      "Gradient Boosted Trees accuracy: 81.98%\n"
     ]
    },
    {
     "data": {
      "image/png": "[encoded data removed]",
      "text/plain": [
       "<Figure size 432x288 with 1 Axes>"
      ]
     },
     "metadata": {
      "needs_background": "light"
     },
     "output_type": "display_data"
    }
   ],
   "source": [
    "from sklearn.ensemble import RandomForestClassifier, AdaBoostClassifier, ExtraTreesClassifier, GradientBoostingClassifier\n",
    "from sklearn.model_selection import learning_curve\n",
    "\n",
    "# Create the classifiers\n",
    "rf_clf = RandomForestClassifier(n_estimators=100, random_state=42)\n",
    "ada_clf = AdaBoostClassifier(n_estimators=100, random_state=42)\n",
    "et_clf = ExtraTreesClassifier(n_estimators=100, random_state=42)\n",
    "gb_clf = GradientBoostingClassifier(n_estimators=100, random_state=42)\n",
    "\n",
    "# Fit the classifiers on the training data\n",
    "rf_clf.fit(X_train, y_train)\n",
    "ada_clf.fit(X_train, y_train)\n",
    "et_clf.fit(X_train, y_train)\n",
    "gb_clf.fit(X_train, y_train)\n",
    "\n",
    "# Calculate the accuracy on the test data\n",
    "rf_accuracy = rf_clf.score(X_test, y_test)\n",
    "ada_accuracy = ada_clf.score(X_test, y_test)\n",
    "et_accuracy = et_clf.score(X_test, y_test)\n",
    "gb_accuracy = gb_clf.score(X_test, y_test)\n",
    "\n",
    "# Print the accuracies\n",
    "print(\"Random Forest accuracy: {:.2f}%\".format(rf_accuracy * 100))\n",
    "print(\"AdaBoost accuracy: {:.2f}%\".format(ada_accuracy * 100))\n",
    "print(\"Extra Trees accuracy: {:.2f}%\".format(et_accuracy * 100))\n",
    "print(\"Gradient Boosted Trees accuracy: {:.2f}%\".format(gb_accuracy * 100))\n",
    "\n",
    "# Plot the learning curves for two classifiers\n",
    "train_sizes, rf_train_scores, rf_test_scores = learning_curve(rf_clf, X_train, y_train, cv=5, scoring='accuracy')\n",
    "train_sizes, gb_train_scores, gb_test_scores = learning_curve(gb_clf, X_train, y_train, cv=5, scoring='accuracy')\n",
    "\n",
    "plt.plot(train_sizes, np.mean(rf_train_scores, axis=1), label='Random Forest Train')\n",
    "plt.plot(train_sizes, np.mean(rf_test_scores, axis=1), label='Random Forest Test')\n",
    "plt.plot(train_sizes, np.mean(gb_train_scores, axis=1), label='Gradient Boosted Trees Train')\n",
    "plt.plot(train_sizes, np.mean(gb_test_scores, axis=1), label='Gradient Boosted Trees Test')\n",
    "\n",
    "plt.title('Learning Curves')\n",
    "plt.xlabel('Training Set Size')\n",
    "plt.ylabel('Accuracy')\n",
    "plt.legend()\n",
    "plt.show()\n"
   ]
  },
  {
   "cell_type": "code",
   "execution_count": null,
   "metadata": {
    "colab": {
     "base_uri": "https://localhost:8080/",
     "height": 364
    },
    "id": "XVGPBB5VRVsD",
    "outputId": "7c483bf3-c913-42eb-ad85-80c8b8455085"
   },
   "outputs": [
    {
     "name": "stdout",
     "output_type": "stream",
     "text": [
      "Random Forest accuracy: 81.93%\n",
      "AdaBoost accuracy: 81.67%\n",
      "Extra Trees accuracy: 81.38%\n",
      "Gradient Boosted Trees accuracy: 82.20%\n"
     ]
    },
    {
     "data": {
      "image/png": "[encoded data removed]",
      "text/plain": [
       "<Figure size 432x288 with 1 Axes>"
      ]
     },
     "metadata": {
      "needs_background": "light"
     },
     "output_type": "display_data"
    }
   ],
   "source": [
    "# Create the classifiers with custom hyper-parameters\n",
    "rf_clf = RandomForestClassifier(n_estimators=100, max_depth=10, min_samples_split=2, random_state=42)\n",
    "ada_clf = AdaBoostClassifier(n_estimators=100, random_state=42)\n",
    "et_clf = ExtraTreesClassifier(n_estimators=100, max_depth=15, min_samples_split=5, random_state=42)\n",
    "gb_clf = GradientBoostingClassifier(n_estimators=100, max_depth=5, min_samples_split=10, random_state=42)\n",
    "\n",
    "# Fit the classifiers on the training data\n",
    "rf_clf.fit(X_train, y_train)\n",
    "ada_clf.fit(X_train, y_train)\n",
    "et_clf.fit(X_train, y_train)\n",
    "gb_clf.fit(X_train, y_train)\n",
    "\n",
    "# Calculate the accuracy on the test data\n",
    "rf_accuracy = rf_clf.score(X_test, y_test)\n",
    "ada_accuracy = ada_clf.score(X_test, y_test)\n",
    "et_accuracy = et_clf.score(X_test, y_test)\n",
    "gb_accuracy = gb_clf.score(X_test, y_test)\n",
    "\n",
    "# Print the accuracies\n",
    "print(\"Random Forest accuracy: {:.2f}%\".format(rf_accuracy * 100))\n",
    "print(\"AdaBoost accuracy: {:.2f}%\".format(ada_accuracy * 100))\n",
    "print(\"Extra Trees accuracy: {:.2f}%\".format(et_accuracy * 100))\n",
    "print(\"Gradient Boosted Trees accuracy: {:.2f}%\".format(gb_accuracy * 100))\n",
    "\n",
    "# Plot the learning curves for two classifiers\n",
    "train_sizes, rf_train_scores, rf_test_scores = learning_curve(rf_clf, X_train, y_train, cv=5, scoring='accuracy')\n",
    "train_sizes, gb_train_scores, gb_test_scores = learning_curve(gb_clf, X_train, y_train, cv=5, scoring='accuracy')\n",
    "\n",
    "plt.plot(train_sizes, np.mean(rf_train_scores, axis=1), label='Random Forest Train')\n",
    "plt.plot(train_sizes, np.mean(rf_test_scores, axis=1), label='Random Forest Test')\n",
    "plt.plot(train_sizes, np.mean(gb_train_scores, axis=1), label='Gradient Boosted Trees Train')\n",
    "plt.plot(train_sizes, np.mean(gb_test_scores, axis=1), label='Gradient Boosted Trees Test')\n",
    "\n",
    "plt.title('Learning Curves')\n",
    "plt.xlabel('Training Set Size')\n",
    "plt.ylabel('Accuracy')\n",
    "plt.legend()\n",
    "plt.show()\n"
   ]
  },
  {
   "cell_type": "markdown",
   "metadata": {
    "id": "qwyr2ulhPrg8"
   },
   "source": [
    "#### Question 4 (3 pts)\n",
    "\n",
    "Discuss and compare the results for the all past three questions. \n",
    "\n",
    "* How does changing hyperparms effect model performance? \n",
    "* Why do you think certain models performed better/worse? \n",
    "* How does this performance line up with known strengths/weakness of these models?"
   ]
  },
  {
   "cell_type": "markdown",
   "metadata": {
    "id": "s4938cIuu7O9"
   },
   "source": [
    "### The results for the past three questions show that the decision tree classifier and the ensemble models have similar accuracies, ranging from 81.13% to 82.13%. This means that none of the models have a clear advantage over the others in terms of accuracy on this dataset\n",
    "### Changing hyper-parameters can affect model performance by making the model more or less complex and prone to overfitting or underfitting. For example, increasing the max_depth or decreasing the min_samples_split of a decision tree can make it more complex and fit better to the training data, but also more likely to overfit and generalize poorly to new data.\n",
    "\n",
    "### Certain models performed better/worse because they have different strengths/weaknesses in dealing with different types of data and problems. For example, random forest and extra trees are good at handling high-dimensional and noisy data, but they can be slow to train and predict; AdaBoost is good at boosting weak learners and reducing bias, but it can be sensitive to outliers and noise; Gradient boosted trees are good at optimizing a loss function and reducing variance, but they can be prone to overfitting and require careful tuning of learning rate\n",
    "### The performance of these models line up with their known strengths/weaknesses in general, but they also depend on the characteristics of the dataset and the problem. For example, this dataset has 23 features and a binary classification problem with imbalanced classes (more non-defaulters than defaulters). This may explain why random forest and extra trees did not perform much better than a single decision tree, as they may not benefit much from averaging multiple trees on this dataset; AdaBoost did slightly better than a single decision tree, as it may have reduced some bias by giving more weight to misclassified examples; Gradient boosted trees did slightly better than AdaBoost, as it may have reduced some variance by adding trees sequentially that correct previous errors.\n",
    "### It is worth noting that the default random forest model has a train accuracy of 1.0, which indicates that it perfectly fits the training data. However, this does not necessarily mean that the model will perform well on new, unseen data. In fact, the test accuracy of the default random forest model is around 80%, which suggests that it may be overfitting to the training data. However, when using custom hyperparameters, the random forest model's train accuracy is not overfitting, and is around 91%, but this decreases when the sample size increases.\""
   ]
  },
  {
   "cell_type": "code",
   "execution_count": null,
   "metadata": {
    "id": "jEtfBcSNu65V"
   },
   "outputs": [],
   "source": []
  }
 ],
 "metadata": {
  "colab": {
   "provenance": []
  },
  "kernelspec": {
   "display_name": "Python 3 (ipykernel)",
   "language": "python",
   "name": "python3"
  },
  "language_info": {
   "codemirror_mode": {
    "name": "ipython",
    "version": 3
   },
   "file_extension": ".py",
   "mimetype": "text/x-python",
   "name": "python",
   "nbconvert_exporter": "python",
   "pygments_lexer": "ipython3",
   "version": "3.9.16"
  }
 },
 "nbformat": 4,
 "nbformat_minor": 1
}
