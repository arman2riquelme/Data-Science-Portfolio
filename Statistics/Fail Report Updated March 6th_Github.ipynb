{
 "cells": [
  {
   "cell_type": "code",
   "execution_count": 151,
   "id": "266ff1a3",
   "metadata": {},
   "outputs": [],
   "source": [
    "import statsmodels.api as sm\n",
    "from sklearn.model_selection import train_test_split\n",
    "from sklearn.compose import ColumnTransformer\n",
    "import pandas as pd\n",
    "import numpy as np\n",
    "import seaborn as sns\n",
    "import matplotlib.pyplot as plt\n",
    "from sklearn.preprocessing import OneHotEncoder\n",
    "from sklearn.preprocessing import StandardScaler\n",
    "import warnings"
   ]
  },
  {
   "cell_type": "markdown",
   "id": "5dfbb115",
   "metadata": {},
   "source": [
    "# Analyzing Academic Performance: Demographic Insights and Risk Stratification"
   ]
  },
  {
   "cell_type": "markdown",
   "id": "32d31732",
   "metadata": {},
   "source": [
    "## Project Overview\n",
    "This analysis delved into the academic performance of students, focusing on identifying demographic patterns and the factors influencing class failure rates during a single semester (Fall 2023). It was a descriptive study, not predictive or machine learning-based, aiming to understand academic performance through various analytical lenses.\n",
    "\n",
    "## Scope of the Study\n",
    "**Analytical Approach:** Employed descriptive statistics, correlation analysis, clustering (KMeans), and OLS regression to uncover trends and patterns in class failure rates, without assuming linear relationships.\n",
    "\n",
    "**Data Compilation:** Utilized Cognos reports to extract features for demographic insights, educational engagement, and academic success indicators.\n",
    "\n",
    "**Limitations:** Analysis confined to a single semester, limiting historical comparisons and trend analysis.\n",
    "\n",
    "## Data Preparation and Exploration\n",
    "The study commenced with the careful preparation and examination of datasets, ensuring completeness and coherence. Key processes included:\n",
    "\n",
    "**Merging and Cleaning:** Integrated various datasets to form a comprehensive dataset for analysis, focusing on broad demographic insights and educational engagement patterns.\n",
    "\n",
    "**Primary Metric Insight:** Centered on 'Class Failure Rates' to identify factors affecting students' likelihood of failing classes.\n",
    "\n",
    "**Analytical Techniques:** Initial exploration was done using descriptive statistics for foundational insights, followed by clustering to identify student groups with similar demographic profiles. Correlations and linear regressions were applied to validate findings and understand the overarching trends.\n",
    "\n",
    "## Bias Reduction and Privacy\n",
    "To minimize bias and protect privacy, the study prioritized anonymizing data by aggregating individual performance into 'Class Failure Rates' and excluding specific identifiers like student ID and program details. The aim was to provide generalized insights into academic challenges, respecting student anonymity and data sensitivity.\n",
    "\n",
    "## Analytical Framework\n",
    "\n",
    "**Creation of Indicators, Metrics, and Submetrics**\n",
    "Developed a framework of indicators, metrics, and submetrics to systematically analyze student performance. This structured approach enabled the standardization of features for measurable analysis, encompassing demographic insights, educational engagement factors, and background support variables.\n",
    "\n",
    "**Correlation Analysis and Clustering**\n",
    "Performed correlation analysis to identify significant relationships between variables, emphasizing the complex nature of academic performance. Applied K-means clustering to segment the student population into groups with distinct academic challenges, using the insights gained from the correlation analysis and the structured analytical framework.\n",
    "\n",
    "## Visualization and Insights\n",
    "Created shaded graphs and other visualizations to illustrate the distribution of failure rates across various categories and clusters. These visual representations were pivotal in communicating findings effectively. Revealed critical insights, such as the disproportionate impact of certain demographic and educational engagement factors on student failure rates.\n",
    "\n",
    "## Tools and Technologies\n",
    "**Jupyter Notebook:** Served as the interactive computational environment for coding, visualization, and analysis. Python Libraries: Utilized pandas for data manipulation, NumPy for numerical computations, seaborn and matplotlib for data visualization, sklearn for machine learning tasks, and statsmodels for regression analysis. Key Findings Framework Application: The indicators, metrics, and submetrics framework facilitated a granular analysis of failure rates, unveiling nuanced insights into the factors affecting student performance. Class Failure Rates Analysis: Highlighted the multifaceted influences on student failure rates, underscoring the importance of targeted support strategies for different student segments. Visualization: The iterative development of shaded graphs provided a clear, visual understanding of the complex data, enhancing the interpretability of the findings.\n",
    "\n",
    "## **Rather than seeking direct relationships between individual features and failure rates, my goal is to identify patterns and insights that can inform more nuanced strategies for academic support.**"
   ]
  },
  {
   "cell_type": "markdown",
   "id": "26e8d344",
   "metadata": {},
   "source": [
    "####  Loading the failure report dataset for initial exploration\n",
    "#### The dataset contains information on students' performance and will be used to analyze failure rates."
   ]
  },
  {
   "cell_type": "code",
   "execution_count": 155,
   "id": "4b95b7c3",
   "metadata": {
    "scrolled": false
   },
   "outputs": [
    {
     "name": "stdout",
     "output_type": "stream",
     "text": [
      "['TERM_CODE', 'SPRIDEN_ID', 'RESIDENCY', 'PROGRAM_DESC', 'CAMPUSES', 'Final Grade']\n"
     ]
    }
   ],
   "source": [
    "failure_df = pd.read_csv(\"202308 Failure Report  update  Jan 26.csv\")\n",
    "\n",
    "# Display only the column names\n",
    "print(failure_df.columns.tolist())"
   ]
  },
  {
   "cell_type": "markdown",
   "id": "4ee16222",
   "metadata": {},
   "source": [
    "#### Loading additional datasets related to withdrawn students and grade analysis\n",
    "\n",
    "### Identifiyng those who have left the institution."
   ]
  },
  {
   "cell_type": "code",
   "execution_count": 156,
   "id": "4d5e5a8a",
   "metadata": {
    "scrolled": true
   },
   "outputs": [
    {
     "name": "stdout",
     "output_type": "stream",
     "text": [
      "['Term', 'Student ID', 'Enrol Status', 'Status Code', 'FT', 'Prev Standing Code', 'Campus Name']\n"
     ]
    }
   ],
   "source": [
    "withdrawn_df = pd.read_csv(\"202308 withdrawn.csv\", encoding='latin1')\n",
    "\n",
    "# Display only the column names\n",
    "print(withdrawn_df.columns.tolist())"
   ]
  },
  {
   "cell_type": "markdown",
   "id": "881a9723",
   "metadata": {},
   "source": [
    "#### Loading additional audited dataset related to failed classes and grade analysis to check consistency"
   ]
  },
  {
   "cell_type": "code",
   "execution_count": 172,
   "id": "cccf80e5",
   "metadata": {
    "scrolled": true
   },
   "outputs": [
    {
     "name": "stdout",
     "output_type": "stream",
     "text": [
      "['CAMPUS_DESC', 'School', 'Term', 'Student ID', 'FINAL_GRADE', 'Age', 'Gender', 'First Gen']\n"
     ]
    }
   ],
   "source": [
    "F_grade_df = pd.read_csv(\"F Grade Analysis Detail Report.csv\")\n",
    "\n",
    "# Mostrar solo algunas columnas específicas del dataframe\n",
    "selected_columns = ['CAMPUS_DESC', 'School', 'Term', 'Student ID', 'FINAL_GRADE', 'Age', 'Gender', 'First Gen']\n",
    "print(F_grade_df[selected_columns].columns.tolist())"
   ]
  },
  {
   "cell_type": "markdown",
   "id": "c332cc4d",
   "metadata": {},
   "source": [
    "#### Loading a dataset with filtered metrics for further analysis.\n",
    "#### This dataset includes various metrics that could be related to student performance."
   ]
  },
  {
   "cell_type": "code",
   "execution_count": 174,
   "id": "e2ad184a",
   "metadata": {},
   "outputs": [
    {
     "name": "stdout",
     "output_type": "stream",
     "text": [
      "['Term', 'status', 'Student ID', 'program', 'Campus Name', 'School Name', 'full_part_time', 'semester', 'Standing Text', 'Prev Standing Text', 'Prev Standing Term', \"Int'l\", 'First Gen', 'Geographic Cat', 'Fund Code']\n"
     ]
    }
   ],
   "source": [
    "filtered_metrics_df = pd.read_csv(\"Filtered metrics.csv\")\n",
    "\n",
    "# Mostrar solo algunas columnas específicas del dataframe\n",
    "selected_columns = ['Term', 'status', 'Student ID', 'program', 'Campus Name', 'School Name', 'full_part_time', 'semester', 'Standing Text', 'Prev Standing Text', 'Prev Standing Term', \"Int'l\", 'First Gen', 'Geographic Cat', 'Fund Code',]\n",
    "print(filtered_metrics_df[selected_columns].columns.tolist())"
   ]
  },
  {
   "cell_type": "markdown",
   "id": "6f0d0d3f",
   "metadata": {},
   "source": [
    "## Verify against withdrawn list\n",
    "#### Identify the student IDs in both list\n",
    "#### Check for any matches "
   ]
  },
  {
   "cell_type": "code",
   "execution_count": 164,
   "id": "0d300ca5",
   "metadata": {},
   "outputs": [],
   "source": [
    "#Ensuring consistent students ID formating\n",
    "\n",
    "failure_df['SPRIDEN_ID'] = failure_df['SPRIDEN_ID'].astype(str)\n",
    "withdrawn_df['Student ID'] = withdrawn_df['Student ID'].astype(str)"
   ]
  },
  {
   "cell_type": "code",
   "execution_count": 165,
   "id": "9b9a284e",
   "metadata": {},
   "outputs": [],
   "source": [
    "#Identifying withdrawn students\n",
    "withdrawn_students = set(withdrawn_df['Student ID'])"
   ]
  },
  {
   "cell_type": "code",
   "execution_count": 166,
   "id": "a170657b",
   "metadata": {},
   "outputs": [
    {
     "name": "stdout",
     "output_type": "stream",
     "text": [
      "Number of withdrawn students; 11\n"
     ]
    }
   ],
   "source": [
    "#create a column in the failure dataset to indicate whether each students has withdrawn\n",
    "\n",
    "failure_df['Is_withdrawn'] = failure_df['SPRIDEN_ID'].isin(withdrawn_students)\n",
    "\n",
    "#Count how many students from the failure report are also on the withdrawn report\n",
    "count_withdrawn_in_failure = failure_df['Is_withdrawn'].sum()\n",
    "\n",
    "print(f\"Number of withdrawn students; {count_withdrawn_in_failure}\")"
   ]
  },
  {
   "cell_type": "code",
   "execution_count": 167,
   "id": "1e54c91b",
   "metadata": {},
   "outputs": [
    {
     "name": "stdout",
     "output_type": "stream",
     "text": [
      "['TERM_CODE', 'SPRIDEN_ID', 'RESIDENCY', 'PROGRAM_DESC', 'CAMPUSES', 'Final Grade', 'Is_withdrawn']\n"
     ]
    }
   ],
   "source": [
    "# Filtering to identify withdrawn students in the failure report\n",
    "withdrawn_students_in_failure = failure_df[failure_df['Is_withdrawn']]\n",
    "\n",
    "# Displaying the information of these students\n",
    "print(withdrawn_students_in_failure.columns.tolist())"
   ]
  },
  {
   "cell_type": "code",
   "execution_count": 169,
   "id": "59e09f8a",
   "metadata": {},
   "outputs": [
    {
     "name": "stdout",
     "output_type": "stream",
     "text": [
      "['SPRIDEN_ID', 'PROGRAM_DESC', 'Final Grade']\n"
     ]
    }
   ],
   "source": [
    "# Displaying specific details of withdrawn students in the failure report\n",
    "withdrawn_students_details = withdrawn_students_in_failure[['SPRIDEN_ID', 'PROGRAM_DESC', 'Final Grade']]\n",
    "\n",
    "print(withdrawn_students_details.columns.tolist())\n"
   ]
  },
  {
   "cell_type": "markdown",
   "id": "aa52df2d",
   "metadata": {},
   "source": [
    "## Note on Exceptional Cases\n",
    "\n",
    "There are eleven students who appear in both the failure and withdrawn reports. These cases are exceptions and are noted for separate consideration. They represent unique circumstances and will be accounted for separately in the final analysis and insights.\n",
    "\n",
    "Proceeding with the primary analysis, these exceptional cases will be kept in mind and revisited if specific patterns or needs are identified that are distinct from the broader student population."
   ]
  },
  {
   "cell_type": "code",
   "execution_count": 170,
   "id": "d59e3051",
   "metadata": {
    "scrolled": false
   },
   "outputs": [
    {
     "name": "stdout",
     "output_type": "stream",
     "text": [
      "['TERM_CODE', 'SPRIDEN_ID', 'Student Profile', 'Final Grade', 'Is_withdrawn', 'Age', 'Gender']\n"
     ]
    }
   ],
   "source": [
    "failure_df['SPRIDEN_ID'] = failure_df['SPRIDEN_ID'].astype(str)\n",
    "F_grade_df['Student ID'] = F_grade_df['Student ID'].astype(str)\n",
    "\n",
    "# Merge the DataFrames to add the 'Age' column from F_grade_df to failure_df\n",
    "# We are performing a left merge to keep all records from failure_df\n",
    "\n",
    "# Merging the 'Age' column from F_grade_df into failure_df\n",
    "failure_df = failure_df.merge(F_grade_df[['Student ID', 'Age', 'Gender']], left_on='SPRIDEN_ID', right_on='Student ID', how='left')\n",
    "\n",
    "# After the merge, you can drop the 'Student ID' column from F_grade_df as it's no longer needed\n",
    "failure_df.drop(['Student ID', 'PROGRAM_DESC', 'CAMPUSES'], axis=1, inplace=True)\n",
    "\n",
    "# Change the column name 'RESIDENCY' to 'Student Profile'\n",
    "failure_df.rename(columns={'RESIDENCY': 'Student Profile'}, inplace=True)\n",
    "\n",
    "\n",
    "print(failure_df.columns.tolist())"
   ]
  },
  {
   "cell_type": "code",
   "execution_count": 12,
   "id": "3323aaf7",
   "metadata": {},
   "outputs": [],
   "source": [
    "# Save the DataFrame to a CSV file\n",
    "failure_df.to_csv(\"failure_df.csv', index=False)\n"
   ]
  },
  {
   "cell_type": "code",
   "execution_count": 171,
   "id": "76247f41",
   "metadata": {
    "scrolled": false
   },
   "outputs": [
    {
     "name": "stdout",
     "output_type": "stream",
     "text": [
      "['TERM_CODE', 'SPRIDEN_ID', 'Student Profile', 'Final Grade', 'Is_withdrawn', 'Age', 'Gender']\n"
     ]
    }
   ],
   "source": [
    "failure_df = pd.read_csv(\"failure_df.csv\")\n",
    "print(failure_df.columns.tolist())"
   ]
  },
  {
   "cell_type": "code",
   "execution_count": 14,
   "id": "d553cd89",
   "metadata": {},
   "outputs": [
    {
     "name": "stdout",
     "output_type": "stream",
     "text": [
      "El DataFrame failure_df tiene 820 ID únicos.\n"
     ]
    }
   ],
   "source": [
    "# Ver los ID únicos en failure_df\n",
    "unique_ids = failure_df['SPRIDEN_ID'].unique()\n",
    "\n",
    "print(f\"El DataFrame failure_df tiene {len(unique_ids)} ID únicos.\")\n"
   ]
  },
  {
   "cell_type": "code",
   "execution_count": 15,
   "id": "e6ac9cb9",
   "metadata": {
    "scrolled": false
   },
   "outputs": [
    {
     "name": "stdout",
     "output_type": "stream",
     "text": [
      "TERM_CODE           0\n",
      "SPRIDEN_ID          0\n",
      "Student Profile     0\n",
      "Final Grade         0\n",
      "Is_withdrawn        0\n",
      "Age                99\n",
      "Gender             99\n",
      "dtype: int64\n"
     ]
    }
   ],
   "source": [
    "# Calculating the number of null values in each column\n",
    "null_values = failure_df.isnull().sum()\n",
    "\n",
    "# Displaying the number of null values for each column\n",
    "print(null_values)\n"
   ]
  },
  {
   "cell_type": "markdown",
   "id": "3211a02d",
   "metadata": {},
   "source": [
    "#### Ensuring Data Consistency Across Datasets\n",
    "\n",
    "A consistent dataset has been achieved by extracting and combining data from various sources to create a robust foundation for analyzing demographic variables. This consolidated dataset includes vital attributes like Term, Student ID, and Final Grade, representing each instance of class failure. While it presents some null values in 'Age' and 'Gender', these are expected and will be addressed by incorporating historical records, ensuring a comprehensive dataset for the analysis.\n",
    "\n",
    "#### Data Enrichment with Additional Features\n",
    "\n",
    "Now, I will proceed to enrich the dataset with additional features from the 'filtered_metrics' report. The new features to be integrated include 'full_part_time' (indicating whether a student is enrolled full-time or part-time), 'semester' (the semester in which the failure occurred), 'Prev Standing Text' (a textual description of the student's previous academic standing), 'Prev Standing Term' (the term related to the student's previous standing), 'First Gen' (indicating whether the student is the first in their family to attend college), 'Geographic Cat'\n",
    "\n",
    "For 'Prev Standing Text', categorization was implemented to streamline the analysis: standings other than 'Good Standing' were classified as 'Academic Issues' (typically representing a GPA below 2.0), and missing records were labeled as 'No record', indicating no previous academic history. This enriched dataset forms a robust foundation for analyzing demographic variables and their impact on academic success.\n"
   ]
  },
  {
   "cell_type": "code",
   "execution_count": 16,
   "id": "ecc7a0e2",
   "metadata": {
    "scrolled": true
   },
   "outputs": [],
   "source": [
    "# Format the student ID columns\n",
    "enriched_df = failure_df.copy()\n",
    "\n",
    "# Format the student ID columns\n",
    "enriched_df['SPRIDEN_ID'] = enriched_df['SPRIDEN_ID'].astype(str)\n",
    "filtered_metrics_df['Student ID'] = filtered_metrics_df['Student ID'].astype(str)\n",
    "\n",
    "# Merge the selected columns from filtered_metrics_df into enriched_df\n",
    "columns_to_merge = ['Student ID', 'full_part_time', 'semester', \n",
    "                    'Prev Standing Text', 'First Gen', 'Geographic Cat', 'Fund Code']\n",
    "\n",
    "enriched_df = enriched_df.merge(filtered_metrics_df[columns_to_merge], \n",
    "                                left_on='SPRIDEN_ID', \n",
    "                                right_on='Student ID', \n",
    "                                how='left')\n",
    "\n",
    "# Rename the 'Prev Standing Text' column to 'Previous Standing'\n",
    "enriched_df.rename(columns={'Prev Standing Text': 'Previous Standing'}, inplace=True)\n",
    "\n",
    "# Replace specified values in the 'Previous Standing' column\n",
    "replace_values = {'Academic Probation 1': 'Academic Issues', \n",
    "                  'Academic Probation 2': 'Academic Issues', \n",
    "                  'Academic Intervention': 'Academic Issues', \n",
    "                  'Academic Probation 3': 'Academic Issues', \n",
    "                  np.nan: 'No record'}\n",
    "\n",
    "enriched_df['Previous Standing'] = enriched_df['Previous Standing'].replace(replace_values)\n",
    "\n",
    "\n",
    "# Drop the extra 'Student ID' column from filtered_metrics_df after merging\n",
    "enriched_df.drop('Student ID', axis=1, inplace=True)\n"
   ]
  },
  {
   "cell_type": "code",
   "execution_count": 17,
   "id": "f4d6bd92",
   "metadata": {
    "scrolled": true
   },
   "outputs": [
    {
     "name": "stdout",
     "output_type": "stream",
     "text": [
      "TERM_CODE              0\n",
      "SPRIDEN_ID             0\n",
      "Student Profile        0\n",
      "Final Grade            0\n",
      "Is_withdrawn           0\n",
      "Age                   99\n",
      "Gender                99\n",
      "full_part_time       201\n",
      "semester             201\n",
      "Previous Standing      0\n",
      "First Gen            201\n",
      "Geographic Cat       201\n",
      "Fund Code            201\n",
      "dtype: int64\n"
     ]
    }
   ],
   "source": [
    "# Calculating the number of null values in each column\n",
    "null_values = enriched_df.isnull().sum()\n",
    "\n",
    "# Displaying the number of null values for each column\n",
    "print(null_values)"
   ]
  },
  {
   "cell_type": "code",
   "execution_count": 18,
   "id": "795036b6",
   "metadata": {},
   "outputs": [
    {
     "name": "stdout",
     "output_type": "stream",
     "text": [
      "Unique IDs in failure_df: 820\n",
      "Unique IDs in enriched_df: 820\n"
     ]
    }
   ],
   "source": [
    "unique_ids_failure = failure_df['SPRIDEN_ID'].nunique()\n",
    "unique_ids_enriched = enriched_df['SPRIDEN_ID'].nunique()\n",
    "\n",
    "print(f\"Unique IDs in failure_df: {unique_ids_failure}\")\n",
    "print(f\"Unique IDs in enriched_df: {unique_ids_enriched}\")\n"
   ]
  },
  {
   "cell_type": "code",
   "execution_count": 420,
   "id": "1aa73613",
   "metadata": {
    "scrolled": true
   },
   "outputs": [
    {
     "name": "stdout",
     "output_type": "stream",
     "text": [
      "IDs in failure_df not in enriched_df after format correction: 0\n",
      "IDs in enriched_df not in failure_df after format correction: 0\n"
     ]
    }
   ],
   "source": [
    "# Asegurarse de que ambos sets de IDs estén en formato string\n",
    "ids_failure_set = set(failure_df['SPRIDEN_ID'].astype(str))\n",
    "ids_enriched_set = set(enriched_df['SPRIDEN_ID'].astype(str))\n",
    "\n",
    "# Realizar la comparación nuevamente\n",
    "missing_in_enriched = ids_failure_set - ids_enriched_set\n",
    "added_in_enriched = ids_enriched_set - ids_failure_set\n",
    "\n",
    "print(f\"IDs in failure_df not in enriched_df after format correction: {len(missing_in_enriched)}\")\n",
    "if missing_in_enriched:\n",
    "    print(f\"Example missing IDs after format correction: {list(missing_in_enriched)[:5]}\")\n",
    "\n",
    "print(f\"IDs in enriched_df not in failure_df after format correction: {len(added_in_enriched)}\")\n",
    "if added_in_enriched:\n",
    "    print(f\"Example added IDs after format correction: {list(added_in_enriched)[:5]}\")\n"
   ]
  },
  {
   "cell_type": "markdown",
   "id": "4d676bd7",
   "metadata": {},
   "source": [
    "### The enriched_df file has been successfully created, containing expected null values primarily in the 'Age' and 'Gender' columns. These null values will be addressed through manual completion in Excel using VLOOKUP, leveraging a smaller subset of historical records that include the missing data. This approach ensures data integrity while preparing for a comprehensive analysis. \n",
    "\n",
    "### To uphold privacy standards, several anonymization steps will be implemented before the data becomes publicly viewable. Only the column headers will be displayed until the anonymization process is complete. Specific modifications include replacing real IDs with anonymous identifiers, changing location references to generic terms (e.g., 'In_City' for specific city names in the 'Geographic Cat' column), and recoding variables in 'Student Profile' and 'Fund Code' to generic labels like 'DOM_1', 'DOM_2', 'International', 'MIN_1', 'MIN_2', and 'Self'. These steps are critical in maintaining the confidentiality of the data while allowing for an accurate analysis of demographic variables and their impact on academic performance."
   ]
  },
  {
   "cell_type": "markdown",
   "id": "142cee75",
   "metadata": {},
   "source": [
    "# Final Dataset "
   ]
  },
  {
   "cell_type": "code",
   "execution_count": 95,
   "id": "7be0b1e5",
   "metadata": {
    "scrolled": false
   },
   "outputs": [
    {
     "name": "stdout",
     "output_type": "stream",
     "text": [
      "['Term ', 'Student ID', 'Student Profile', 'Delivery Mode', 'Program schedule', 'Final Grade', 'Enrol Status', 'Age', 'Gender', 'Semester', 'Previous Standing ', 'First Gen', 'Catchment Area', 'Funding Code']\n"
     ]
    }
   ],
   "source": [
    "f_grade_df = pd.read_csv(r\"C:\\Users\\jriquel1\\Desktop\\Failure Report\\Githhub\\F Grade Analysis - Working Dataset.csv\")\n",
    "\n",
    "# Display only the column names\n",
    "print(f_grade_df.columns.tolist())"
   ]
  },
  {
   "cell_type": "code",
   "execution_count": 96,
   "id": "11fa8e57",
   "metadata": {},
   "outputs": [],
   "source": [
    "# List of student IDs to be removed\n",
    "remove_ids = [100178656, 100209154, 100217130, 100212035, 100213763, 100222138, 100221553, 100220361, 100219801]\n",
    "\n",
    "# Filter out these IDs\n",
    "f_grade_df = f_grade_df[~f_grade_df['Student ID'].isin(remove_ids)]\n",
    "\n",
    "# Ensure the 'Age' column is numeric\n",
    "f_grade_df['Age'] = pd.to_numeric(f_grade_df['Age'], errors='coerce')\n",
    "\n",
    "# Categorizing ages according to the specified ranges\n",
    "def categorize_age(age):\n",
    "    if age <= 20:\n",
    "        return '≤ 20'\n",
    "    elif 21 <= age <= 25:\n",
    "        return '21-25'\n",
    "    elif 26 <= age <= 40:\n",
    "        return '26-40'\n",
    "    else:\n",
    "        return '> 40'\n",
    "\n",
    "# Apply the categorization to the 'Age' column\n",
    "f_grade_df['Age Range'] = f_grade_df['Age'].apply(categorize_age)\n",
    "\n",
    "# Define the path and filename for the modified dataset\n",
    "filename = \"F Grade Analysis V1 - Working Dataset.csv\"\n",
    "\n",
    "# Save the modified DataFrame to a CSV file\n",
    "f_grade_df.to_csv(filename, index=False)"
   ]
  },
  {
   "cell_type": "code",
   "execution_count": 97,
   "id": "c4b26e8c",
   "metadata": {
    "scrolled": true
   },
   "outputs": [
    {
     "name": "stdout",
     "output_type": "stream",
     "text": [
      "['Term ', 'Student ID', 'Student Profile', 'Delivery Mode', 'Program schedule', 'Final Grade', 'Enrol Status', 'Age', 'Gender', 'Semester', 'Previous Standing ', 'First Gen', 'Catchment Area', 'Funding Code', 'Age Range']\n"
     ]
    }
   ],
   "source": [
    "f_gradev1_df = pd.read_csv(\"F Grade Analysis V1 - Working Dataset.csv\")\n",
    "\n",
    "# Display only the column names\n",
    "print(f_gradev1_df.columns.tolist())"
   ]
  },
  {
   "cell_type": "code",
   "execution_count": 98,
   "id": "1f04f114",
   "metadata": {},
   "outputs": [],
   "source": [
    "unique_students_v1 = f_gradev1_df.copy()"
   ]
  },
  {
   "cell_type": "code",
   "execution_count": 99,
   "id": "68343a57",
   "metadata": {
    "scrolled": true
   },
   "outputs": [
    {
     "name": "stdout",
     "output_type": "stream",
     "text": [
      "805\n"
     ]
    }
   ],
   "source": [
    "# Check the number of unique Student IDs\n",
    "unique_student_ids_count = f_gradev1_df['Student ID'].nunique()\n",
    "print(unique_student_ids_count)"
   ]
  },
  {
   "cell_type": "markdown",
   "id": "59185103",
   "metadata": {},
   "source": [
    "### Data Structuring and Anonymization for Academic Performance Analysis\n",
    "\n",
    "The enriched dataset facilitates a structured approach to evaluate academic performance, focusing on a spectrum of demographic insights and educational engagement indicators. The subsequent code segment is designed to:\n",
    "\n",
    "- **Calculate Class Failure Count**: Quantify the number of failed classes per student, providing a foundational metric for performance analysis.\n",
    "- **Anonymize IDs**: Protect student privacy by replacing original IDs with anonymous identifiers, ensuring data confidentiality.\n",
    "\n",
    "Upon completion of this anonymization process, I'am  able to present the dataset in its entirety, laying out all features while maintaining the confidentiality of the subjects. This ensures the analysis upholds ethical integrity and provides reliable insights into student academic performance."
   ]
  },
  {
   "cell_type": "code",
   "execution_count": 100,
   "id": "c1353c2a",
   "metadata": {},
   "outputs": [
    {
     "data": {
      "text/plain": [
       "(  Student Profile Delivery Mode            Program schedule Age Range Gender  \\\n",
       " 0           DOM_2        Online  Skill Development Programs     26-40      F   \n",
       " 1           DOM_2        Online                 Post Sec FT      > 40      F   \n",
       " 2           DOM_1     In Person                 Post Sec FT      > 40      M   \n",
       " 3           DOM_1     In Person  Skill Development Programs      > 40      M   \n",
       " 4           DOM_2     In Person                 Post Sec FT      > 40      F   \n",
       " \n",
       "    Semester Previous Standing First Gen Catchment Area Funding Code  \\\n",
       " 0         8         No record         N      In Region         SELF   \n",
       " 1         1     Good Standing         N      In Region        MIN_1   \n",
       " 2         5     Good Standing         N        In City         SELF   \n",
       " 3         2         No record         N      In Region         SELF   \n",
       " 4         1     Good Standing         Y      In Region        MIN_2   \n",
       " \n",
       "    Class Failure Count Anonymized ID  \n",
       " 0                    1          ID_1  \n",
       " 1                    1          ID_2  \n",
       " 2                    2          ID_3  \n",
       " 3                    1          ID_4  \n",
       " 4                    3          ID_5  ,\n",
       " 805)"
      ]
     },
     "execution_count": 100,
     "metadata": {},
     "output_type": "execute_result"
    }
   ],
   "source": [
    "# Correcting column names by stripping leading and trailing spaces\n",
    "f_gradev1_df.columns = f_gradev1_df.columns.str.strip()\n",
    "\n",
    "# Dropping the columns we won't use\n",
    "data_filtered_v1 = f_gradev1_df.drop(columns=['Term', 'Enrol Status', 'Age'])\n",
    "\n",
    "# Grouping data by Student ID to aggregate information and count F Grades\n",
    "unique_students_v1 = data_filtered_v1.groupby('Student ID').agg({\n",
    "    'Student Profile': 'first',  # Keep the first occurrence\n",
    "    'Delivery Mode': 'first',  # Keep the first occurrence\n",
    "    'Program schedule': 'first',  # Keep the first occurrence\n",
    "    'Age Range': 'first',  # Keep the first occurrence\n",
    "    'Gender': 'first',  # Keep the first occurrence\n",
    "    'Semester': 'first',  # Keep the first occurrence\n",
    "    'Previous Standing': 'first',  # Keep the first occurrence\n",
    "    'First Gen': 'first',  # Keep the first occurrence\n",
    "    'Catchment Area': 'first',  # Keep the first occurrence\n",
    "    'Funding Code': 'first',  # Keep the first occurrence\n",
    "    'Final Grade': 'count'  # Count the number of F grades per student\n",
    "}).rename(columns={'Final Grade': 'Class Failure Count'})\n",
    "\n",
    "# Generate a series of unique IDs\n",
    "unique_ids = pd.Series(range(1, len(unique_students_v1) + 1)).astype(str).apply(lambda x: 'ID_' + x)\n",
    "\n",
    "# Replace the original 'Student ID' with the anonymized 'unique_ids'\n",
    "unique_students_v1.reset_index(drop=True, inplace=True)  # Reset index if necessary\n",
    "unique_students_v1['Anonymized ID'] = unique_ids\n",
    "\n",
    "\n",
    "# Display the first few rows of the unique_students_v1 dataframe and the total number of unique students\n",
    "unique_students_v1.head(), len(unique_students_v1)"
   ]
  },
  {
   "cell_type": "code",
   "execution_count": 101,
   "id": "5b6a3f4d",
   "metadata": {},
   "outputs": [
    {
     "name": "stdout",
     "output_type": "stream",
     "text": [
      "['Student Profile', 'Delivery Mode', 'Program schedule', 'Age Range', 'Gender', 'Semester', 'Previous Standing', 'First Gen', 'Catchment Area', 'Funding Code', 'Class Failure Count', 'Anonymized ID']\n"
     ]
    }
   ],
   "source": [
    "# Print all column names in the DataFrame\n",
    "print(unique_students_v1.columns.tolist())\n"
   ]
  },
  {
   "cell_type": "markdown",
   "id": "431fc435",
   "metadata": {},
   "source": [
    "# Creating Indicators, Metrics, and Submetrics\n",
    "\n",
    "Having enriched the dataset with additional features, the next step involves creating various indicators, metrics, and submetrics to analyze the data more deeply. This process aims to dissect the dataset into meaningful segments for detailed insights into student performance. The analysis is structured around three main categories:\n",
    "\n",
    "- **Demographic Insights**: This category focuses on understanding the distribution of failure rates across different demographic variables such as residency status, age range, and gender. By analyzing these variables, we aim to identify demographic patterns that may influence student performance.\n",
    "\n",
    "- **Educational Engagement**: This segment evaluates the impact of educational engagement factors on failure rates. Variables such as the students' program schedule, delivery mode of the courses, the semester in which failures occurred, and their previous academic standing are examined. The goal is to assess how these aspects of educational engagement correlate with academic success or failure.\n",
    "\n",
    "- **Background and Support**: The final category explores the role of students' background and the support they receive, analyzing how catchment area, funding code, and whether the student is the first in their family to attend college (First Gen) affect failure rates. This analysis helps in identifying the external and internal support mechanisms that can influence a student's academic journey.\n",
    "\n",
    "## Summary of Indicators\n",
    "\n",
    "**Student Profile:** Differentiated into DOM_1 (Domestic group 1), DOM_2 (Domestic group 2), and INT (International Students).\n",
    "\n",
    "**Delivery Mode:** Split into In Person and Online, indicating the mode of course delivery.\n",
    "\n",
    "**Program Schedule:** Different schedules like Post Sec FT (Full Time), Post Sec PT (Part Time), and Skill Development Programs are represented.\n",
    "\n",
    "**Age Range:** Categorical age ranges are encoded.\n",
    "\n",
    "**Gender:** Gender identities are encoded into separate columns.\n",
    "\n",
    "**Semester:** Each semester is represented as its own column.\n",
    "\n",
    "**Previous Standing:** Academic standing categories are encoded.\n",
    "\n",
    "**First Gen:** Indicates whether a student is the first in their family to attend college or university.\n",
    "\n",
    "**Catchment Area:** Reflects various geographic regions.\n",
    "\n",
    "**Funding Code:** Different funding sources for students.\n",
    "\n",
    "\n",
    "The analysis within each category will be conducted by calculating the mean of the distributions derived from each variable, providing a holistic view of how each factor contributes to the overall failure rates among students. This structured approach allows for a nuanced understanding of the multifaceted nature of academic success and challenges.\n"
   ]
  },
  {
   "cell_type": "code",
   "execution_count": 102,
   "id": "efa68f33",
   "metadata": {
    "scrolled": false
   },
   "outputs": [
    {
     "data": {
      "text/plain": [
       "{'Demographic Insights': {'Student Profile':                      mean  median  count\n",
       "  Student Profile                         \n",
       "  DOM_1            2.385204     2.0    392\n",
       "  DOM_2            3.065421     3.0    214\n",
       "  INT              2.120603     1.0    199,\n",
       "  'Age Range':                mean  median  count\n",
       "  Age Range                         \n",
       "  21-25      2.521236     2.0    259\n",
       "  26-40      2.312849     1.0    179\n",
       "  > 40       2.648148     2.0     54\n",
       "  ≤ 20       2.565495     2.0    313,\n",
       "  'Gender':             mean  median  count\n",
       "  Gender                         \n",
       "  F       2.500000     2.0    348\n",
       "  M       2.480813     2.0    443\n",
       "  N       3.142857     3.5     14},\n",
       " 'Educational Engagement': {'Program schedule':                                 mean  median  count\n",
       "  Program schedule                                   \n",
       "  Post Sec FT                 2.600547     2.0    731\n",
       "  Post Sec PT                 1.550000     1.0     40\n",
       "  Skill Development Programs  1.470588     1.0     34,\n",
       "  'Delivery Mode':                    mean  median  count\n",
       "  Delivery Mode                         \n",
       "  In Person      2.456954     2.0    604\n",
       "  Online         2.631841     2.0    201,\n",
       "  'Semester':               mean  median  count\n",
       "  Semester                         \n",
       "  1         2.744898     2.0    490\n",
       "  2         2.676471     2.5     34\n",
       "  3         2.353261     2.0    184\n",
       "  4         1.395349     1.0     43\n",
       "  5         2.400000     2.0      5\n",
       "  6         1.000000     1.0      1\n",
       "  8         1.479167     1.0     48},\n",
       " 'Background and Support': {'Catchment Area':                      mean  median  count\n",
       "  Catchment Area                          \n",
       "  In City          2.690751     2.0    346\n",
       "  In Region        2.946970     2.5    132\n",
       "  Out of Province  1.727273     1.0     22\n",
       "  Out of Region    2.198113     1.5    106\n",
       "  Overseas         2.120603     1.0    199,\n",
       "  'Funding Code':                   mean  median  count\n",
       "  Funding Code                         \n",
       "  MIN_1         2.632075     2.0    212\n",
       "  MIN_2         3.368421     3.0    114\n",
       "  SELF          2.235908     1.0    479,\n",
       "  'First Gen':                mean  median  count\n",
       "  First Gen                         \n",
       "  N          2.416303     2.0    687\n",
       "  Y          2.991525     2.0    118}}"
      ]
     },
     "execution_count": 102,
     "metadata": {},
     "output_type": "execute_result"
    }
   ],
   "source": [
    "# Preparing analysis functions\n",
    "def analyze_distribution(groupby_column):\n",
    "    return unique_students_v1.groupby(groupby_column)['Class Failure Count'].agg(['mean', 'median', 'count'])\n",
    "\n",
    "# Demographic Insights\n",
    "demographic_insights_analysis = {var: analyze_distribution(var) for var in ['Student Profile', 'Age Range', 'Gender', ]}\n",
    "\n",
    "# Educational Engagement\n",
    "educational_engagement_analysis = {var: analyze_distribution(var) for var in ['Program schedule', 'Delivery Mode', 'Semester']}\n",
    "\n",
    "# Background and Support\n",
    "background_support_analysis = {var: analyze_distribution(var) for var in ['Catchment Area', 'Funding Code','First Gen']}\n",
    "\n",
    "# Compiling results\n",
    "analysis_results = {\n",
    "    \"Demographic Insights\": demographic_insights_analysis,\n",
    "    \"Educational Engagement\": educational_engagement_analysis,\n",
    "    \"Background and Support\": background_support_analysis\n",
    "}\n",
    "\n",
    "analysis_results"
   ]
  },
  {
   "cell_type": "code",
   "execution_count": 104,
   "id": "3ecd708e",
   "metadata": {},
   "outputs": [
    {
     "data": {
      "text/plain": [
       "{'Demographic Insights': 2.5811881634103657,\n",
       " 'Educational Engagement': 2.2367116679672465,\n",
       " 'Background and Support': 2.595374778391995}"
      ]
     },
     "execution_count": 104,
     "metadata": {},
     "output_type": "execute_result"
    }
   ],
   "source": [
    "def analyze_distribution(groupby_column):\n",
    "    return unique_students_v1.groupby(groupby_column)['Class Failure Count'].mean().mean()\n",
    "\n",
    "\n",
    "# Demographic Insights\n",
    "demographic_insights_analysis = {var: analyze_distribution(var) for var in ['Student Profile', 'Age Range', 'Gender']}\n",
    "demographic_insights_mean = np.mean(list(demographic_insights_analysis.values()))\n",
    "\n",
    "# Educational Engagement\n",
    "educational_engagement_analysis = {var: analyze_distribution(var) for var in ['Program schedule', 'Delivery Mode', 'Semester', 'Previous Standing']}\n",
    "educational_engagement_mean = np.mean(list(educational_engagement_analysis.values()))\n",
    "\n",
    "# Background and Support\n",
    "background_support_analysis = {var: analyze_distribution(var) for var in ['Catchment Area', 'Funding Code', 'First Gen']}\n",
    "background_support_mean = np.mean(list(background_support_analysis.values()))\n",
    "\n",
    "# Compiling results\n",
    "analysis_results = {\n",
    "    \"Demographic Insights\": demographic_insights_mean,\n",
    "    \"Educational Engagement\": educational_engagement_mean,\n",
    "    \"Background and Support\": background_support_mean\n",
    "}\n",
    "\n",
    "analysis_results"
   ]
  },
  {
   "cell_type": "markdown",
   "id": "bb5ea747",
   "metadata": {},
   "source": [
    "### Demographic Insights Summary:\n",
    "\n",
    "Student Profile: DOM_1 students have an average failure rate of 2.39, DOM_2 students 3.07, and International students 2.12. DOM_2 have the highest failure rate on average.\n",
    "Age Range: Students aged 21-25 have the highest average failure rate of 2.52, followed closely by those over 40 and those under 20. Younger students (≤ 20) and those aged 26-40 show lower failure rates.\n",
    "Gender: Female (F) and Male (M) students have similar average failure rates (2.50 for females and 2.48 for males), while Non-binary (N) students, although a small population (14), have a higher average failure rate of 3.14. **This notable discrepancy, despite the limited sample size, is a point of concern and merits particular attention in the report due to the elevated failure rate.**\n",
    "\n",
    "### Educational Engagement Summary:\n",
    "\n",
    "Program Schedule: Full-time post-secondary students have the highest average failure rate of 2.60, followed by part-time and skill development programs, which show lower rates.\n",
    "Delivery Mode: In-person classes have an average failure rate of 2.49, with online classes slightly higher at 2.63. Other modes show significantly lower rates.\n",
    "Semester: First semester students have the highest average failure rate of 2.74, with rates generally decreasing in later semesters.\n",
    "\n",
    "### Background and Support Summary:\n",
    "\n",
    "Catchment Area: Students from 'In Region' have the highest average failure rate of 2.95, with 'In City' and 'Overseas' students showing slightly lower rates.\n",
    "Funding Code: Students funded by MIN_2 have the highest average failure rate of 3.37, followed by MIN_1-funded and SELF-funded students.\n",
    "First Gen: First-generation college students have a higher average failure rate of 2.99 compared to non-first-gen students at 2.42.\n",
    "\n",
    "### Overall Mean Failure Rates:\n",
    "\n",
    "* Demographic Insights: 2.58\n",
    "* Educational Engagement: 2.06\n",
    "* Background and Support: 2.60\n",
    "\n",
    "This summary highlights key findings in each category, showing how different factors relate to student failure rates.DOM_2 students, first semester attendees, and those funded by MIN_2 show higher failure rates, suggesting areas for focused support and intervention.\n",
    "\n"
   ]
  },
  {
   "cell_type": "markdown",
   "id": "ae19f96c",
   "metadata": {},
   "source": [
    "### In pursuit of crafting the ideal shaded graph requested, I iterated through several versions using Python's matplotlib library, each time refining the visualization based on feedback and my evolving understanding of what was needed.\n",
    "\n",
    "### First Draft: Started with basic plotting of means across three categories—Demographic Insights, Educational Engagement, and Background and Support—using lines and shaded areas to denote ranges. This laid the groundwork but lacked detail."
   ]
  },
  {
   "cell_type": "code",
   "execution_count": 105,
   "id": "9f0c2cc8",
   "metadata": {
    "scrolled": false
   },
   "outputs": [
    {
     "data": {
      "image/png": "[encoded data removed]",
      "text/plain": [
       "<Figure size 1400x800 with 1 Axes>"
      ]
     },
     "metadata": {},
     "output_type": "display_data"
    }
   ],
   "source": [
    "# Datos de las medias para las tres categorías principales\n",
    "categories = ['Demographic Insights', 'Educational Engagement', 'Background and Support']\n",
    "\n",
    "# Calcula la media, minima y maxima para cada categoria\n",
    "data = {\n",
    "    \"Demographic Insights\": {\n",
    "        'Student Profile': 2.385204,\n",
    "        'Age Range': 2.521236,\n",
    "        'Gender': 2.500000\n",
    "    },\n",
    "    \"Educational Engagement\": {\n",
    "        'Program schedule': 2.600547,\n",
    "        'Delivery Mode': 2.456954,\n",
    "        'Semester': 2.744898,\n",
    "        'Previous Standing': 2.890244\n",
    "    },\n",
    "    \"Background and Support\": {\n",
    "        'Catchment Area': 2.946970,\n",
    "        'Funding Code': 3.368421,\n",
    "        'First Gen': 2.416303\n",
    "    }\n",
    "}\n",
    "\n",
    "means = []\n",
    "mins = []\n",
    "maxs = []\n",
    "\n",
    "for category in categories:\n",
    "    values = list(data[category].values())\n",
    "    means.append(np.mean(values))\n",
    "    mins.append(np.min(values))\n",
    "    maxs.append(np.max(values))\n",
    "\n",
    "# Crear el gráfico\n",
    "fig, ax = plt.subplots(figsize=(14, 8))\n",
    "\n",
    "# Dibujar la línea para las medias\n",
    "plt.plot(categories, means, label='Mean', color='blue', marker='o')\n",
    "\n",
    "# Dibujar las áreas sombreadas para el rango de valores\n",
    "plt.fill_between(categories, mins, maxs, color='blue', alpha=0.1)\n",
    "\n",
    "ax.set_ylabel('Mean', fontsize=14)\n",
    "ax.set_title('Mean Across Categories', fontsize=16)\n",
    "plt.legend()\n",
    "\n",
    "plt.show()\n"
   ]
  },
  {
   "cell_type": "markdown",
   "id": "c1e61538",
   "metadata": {},
   "source": [
    "### Second Draft: Enhanced the graph by adding precise mean value annotations for each category, making the graph more informative at a glance. However, it still needed more depth and clarity."
   ]
  },
  {
   "cell_type": "code",
   "execution_count": 106,
   "id": "e077f6ee",
   "metadata": {
    "scrolled": false
   },
   "outputs": [
    {
     "data": {
      "image/png": "[encoded data removed]",
      "text/plain": [
       "<Figure size 1400x800 with 1 Axes>"
      ]
     },
     "metadata": {},
     "output_type": "display_data"
    }
   ],
   "source": [
    "# Datos de las medias para las tres categorías principales\n",
    "categories = ['Demographic Insights', 'Educational Engagement', 'Background and Support']\n",
    "\n",
    "# Calcula la media, minima y maxima para cada categoria\n",
    "data = {\n",
    "    \"Demographic Insights\": {\n",
    "        'Student Profile': 2.385204,\n",
    "        'Age Range': 2.521236,\n",
    "        'Gender': 2.500000\n",
    "    },\n",
    "    \"Educational Engagement\": {\n",
    "        'Program schedule': 2.600547,\n",
    "        'Delivery Mode': 2.456954,\n",
    "        'Semester': 2.744898,\n",
    "        'Previous Standing': 2.890244\n",
    "    },\n",
    "    \"Background and Support\": {\n",
    "        'Catchment Area': 2.946970,\n",
    "        'Funding Code': 3.368421,\n",
    "        'First Gen': 2.416303\n",
    "    }\n",
    "}\n",
    "\n",
    "means = []\n",
    "mins = []\n",
    "maxs = []\n",
    "\n",
    "for category in categories:\n",
    "    values = list(data[category].values())\n",
    "    means.append(np.mean(values))\n",
    "    mins.append(np.min(values))\n",
    "    maxs.append(np.max(values))\n",
    "\n",
    "# Crear el gráfico\n",
    "fig, ax = plt.subplots(figsize=(14, 8))\n",
    "\n",
    "# Dibujar la línea para las medias\n",
    "plt.plot(categories, means, label='Mean', color='blue', marker='o')\n",
    "\n",
    "# Dibujar las áreas sombreadas para el rango de valores\n",
    "plt.fill_between(categories, mins, maxs, color='blue', alpha=0.1)\n",
    "\n",
    "# Agregar etiquetas a los puntos\n",
    "for i, mean in enumerate(means):\n",
    "    ax.text(i, mean, f'{mean:.2f}', ha='center', va='bottom', fontsize=10)\n",
    "\n",
    "ax.set_ylabel('Mean', fontsize=14)\n",
    "ax.set_title('Mean Across Categories', fontsize=16)\n",
    "plt.legend()\n",
    "\n",
    "plt.show()"
   ]
  },
  {
   "cell_type": "markdown",
   "id": "4fad3b47",
   "metadata": {},
   "source": [
    "### Final Version: Achieved the desired outcome by meticulously labeling each data point within the categories and adjusting the visual layout for maximum clarity. This iteration not only met the brief for a shaded graph but also provided a comprehensive view of the data through detailed annotations and strategic presentation.\n",
    "\n",
    "#### This progression showcases the power of Python's matplotlib for data visualization and the importance of iterative design in achieving clarity and impact in presenting complex data."
   ]
  },
  {
   "cell_type": "code",
   "execution_count": 107,
   "id": "543de901",
   "metadata": {
    "scrolled": false
   },
   "outputs": [
    {
     "data": {
      "image/png": "[encoded data removed]",
      "text/plain": [
       "<Figure size 1400x800 with 1 Axes>"
      ]
     },
     "metadata": {},
     "output_type": "display_data"
    }
   ],
   "source": [
    "# Datos de las medias para las tres categorías principales\n",
    "categories = ['Demographic Insights', 'Educational Engagement', 'Background and Support']\n",
    "\n",
    "# Calcula la media, minima y maxima para cada categoria\n",
    "data = {\n",
    "    \"Demographic Insights\": {\n",
    "        'Student Profile': 2.385204,\n",
    "        'Age Range': 2.521236,\n",
    "        'Gender': 2.500000\n",
    "    },\n",
    "    \"Educational Engagement\": {\n",
    "        'Program schedule': 2.600547,\n",
    "        'Delivery Mode': 2.456954,\n",
    "        'Semester': 2.744898,\n",
    "        'Previous Standing': 2.890244\n",
    "    },\n",
    "    \"Background and Support\": {\n",
    "        'Catchment Area': 2.946970,\n",
    "        'Funding Code': 3.368421,\n",
    "        'First Gen': 2.416303\n",
    "    }\n",
    "}\n",
    "\n",
    "means = []\n",
    "mins = []\n",
    "maxs = []\n",
    "\n",
    "for category in categories:\n",
    "    values = list(data[category].values())\n",
    "    means.append(np.mean(values))\n",
    "    mins.append(np.min(values))\n",
    "    maxs.append(np.max(values))\n",
    "\n",
    "# Crear el gráfico\n",
    "fig, ax = plt.subplots(figsize=(14, 8))\n",
    "\n",
    "# Dibujar la línea para las medias\n",
    "plt.plot(categories, means, label='Failure Rate', color='blue', marker='o')\n",
    "\n",
    "# Dibujar las áreas sombreadas para el rango de valores\n",
    "plt.fill_between(categories, mins, maxs, color='blue', alpha=0.1)\n",
    "\n",
    "# Agregar etiquetas a los puntos\n",
    "for i, category in enumerate(categories):\n",
    "    for j, (metric, value) in enumerate(data[category].items()):\n",
    "        ax.text(i, value - 0.00000009 * j, f'{metric}: {value:.2f}', ha='left', va='bottom', fontsize=10)\n",
    "\n",
    "# Mover la leyenda al lado opuesto\n",
    "ax.legend(loc='upper left')\n",
    "\n",
    "ax.set_ylabel('Average Failed Classes', fontsize=14)\n",
    "ax.set_title('Average Failed Classes per Metric', fontsize=16)\n",
    "\n",
    "plt.show()"
   ]
  },
  {
   "cell_type": "markdown",
   "id": "71cd2dd9",
   "metadata": {
    "scrolled": true
   },
   "source": [
    "### This visualization presents the average number of failed classes per student across various demographic and academic metrics. It demonstrates a discernible upward trend in failure rates moving from the 'Student Profile' indicator through to the 'Funding Code' metric. Notably, the 'Age' category emerges as a significant demographic factor impacting failure rates. Aspects of 'Educational Engagement,' such as 'Semester' progression and 'Previous Standing,' are also shown to shape these outcomes. The indicators 'Funding Code' and 'Catchment Area' are identified as having the highest correlation with failed class rates, warranting further attention for potential interventions.\n",
    "\n",
    "**Please note that the metrics are positioned on the chart according to their corresponding submetric rates, which aids in identifying patterns and relationships within the data.**"
   ]
  },
  {
   "cell_type": "markdown",
   "id": "56023410",
   "metadata": {},
   "source": [
    "## After completing the analysis of mean values across key categories, I am now transitioning to a secondary analysis phase focused on exploring correlations within the dataset. This step is crucial for identifying relationships between different variables and understanding how they collectively impact student performance.\n",
    "\n",
    "Utilizing correlation analysis, I aim to uncover significant patterns that may not be immediately apparent from the mean analysis alone. This deeper insight into how variables interact with each other will provide a solid foundation for the subsequent application of K-means clustering.\n",
    "\n",
    "The application of K-means clustering will segment the dataset into clusters based on similarities in the data. By examining these clusters, I will identify unique academic challenges present within each group. This clustering approach will help to highlight distinct patterns and challenges faced by different segments of the student population, enabling targeted interventions and support strategies to be developed based on the specific needs of each cluster.\n",
    "\n",
    "This two-pronged approach of correlation analysis followed by K-means clustering represents a comprehensive strategy to delve deeper into the data, providing a nuanced understanding of the academic challenges students face."
   ]
  },
  {
   "cell_type": "code",
   "execution_count": 109,
   "id": "be338126",
   "metadata": {},
   "outputs": [
    {
     "name": "stdout",
     "output_type": "stream",
     "text": [
      "Unique values in 'Class Failure Count': [1 2 3 4 5 6 7]\n"
     ]
    }
   ],
   "source": [
    "# Print unique values in 'Class Failure Count'\n",
    "unique_values = unique_students_v1['Class Failure Count'].unique()\n",
    "print(\"Unique values in 'Class Failure Count':\", unique_values)"
   ]
  },
  {
   "cell_type": "markdown",
   "id": "7fb74836",
   "metadata": {},
   "source": [
    "# Creating a one-hot encoding DataFrame while excluding 'Student ID"
   ]
  },
  {
   "cell_type": "code",
   "execution_count": 110,
   "id": "95f6143d",
   "metadata": {},
   "outputs": [
    {
     "name": "stdout",
     "output_type": "stream",
     "text": [
      "   Class Failure Count Anonymized ID  Student Profile_DOM_1  \\\n",
      "0                    1          ID_1                      0   \n",
      "1                    1          ID_2                      0   \n",
      "2                    2          ID_3                      1   \n",
      "3                    1          ID_4                      1   \n",
      "4                    3          ID_5                      0   \n",
      "\n",
      "   Student Profile_DOM_2  Student Profile_INT  Delivery Mode_In Person  \\\n",
      "0                      1                    0                        0   \n",
      "1                      1                    0                        0   \n",
      "2                      0                    0                        1   \n",
      "3                      0                    0                        1   \n",
      "4                      1                    0                        1   \n",
      "\n",
      "   Delivery Mode_Online  Program schedule_Post Sec FT  \\\n",
      "0                     1                             0   \n",
      "1                     1                             1   \n",
      "2                     0                             1   \n",
      "3                     0                             0   \n",
      "4                     0                             1   \n",
      "\n",
      "   Program schedule_Post Sec PT  Program schedule_Skill Development Programs  \\\n",
      "0                             0                                            1   \n",
      "1                             0                                            0   \n",
      "2                             0                                            0   \n",
      "3                             0                                            1   \n",
      "4                             0                                            0   \n",
      "\n",
      "   ...  First Gen_N  First Gen_Y  Catchment Area_In City  \\\n",
      "0  ...            1            0                       0   \n",
      "1  ...            1            0                       0   \n",
      "2  ...            1            0                       1   \n",
      "3  ...            1            0                       0   \n",
      "4  ...            0            1                       0   \n",
      "\n",
      "   Catchment Area_In Region  Catchment Area_Out of Province  \\\n",
      "0                         1                               0   \n",
      "1                         1                               0   \n",
      "2                         0                               0   \n",
      "3                         1                               0   \n",
      "4                         1                               0   \n",
      "\n",
      "   Catchment Area_Out of Region  Catchment Area_Overseas  Funding Code_MIN_1  \\\n",
      "0                             0                        0                   0   \n",
      "1                             0                        0                   1   \n",
      "2                             0                        0                   0   \n",
      "3                             0                        0                   0   \n",
      "4                             0                        0                   0   \n",
      "\n",
      "   Funding Code_MIN_2  Funding Code_SELF  \n",
      "0                   0                  1  \n",
      "1                   0                  0  \n",
      "2                   0                  1  \n",
      "3                   0                  1  \n",
      "4                   1                  0  \n",
      "\n",
      "[5 rows x 37 columns]\n"
     ]
    }
   ],
   "source": [
    "# Assuming 'Student ID' is not part of the columns to be encoded\n",
    "categorical_columns = ['Student Profile', 'Delivery Mode', 'Program schedule', 'Age Range', 'Gender', 'Semester', 'Previous Standing', 'First Gen', 'Catchment Area', 'Funding Code']\n",
    "\n",
    "# Applying one-hot encoding to the DataFrame while excluding 'Student ID'\n",
    "unique_students_v1 = pd.get_dummies(unique_students_v1, columns=categorical_columns)\n",
    "\n",
    "print(unique_students_v1.head())"
   ]
  },
  {
   "cell_type": "code",
   "execution_count": 111,
   "id": "5253cc3b",
   "metadata": {},
   "outputs": [],
   "source": [
    "df_encoding = unique_students_v1.copy()"
   ]
  },
  {
   "cell_type": "code",
   "execution_count": 112,
   "id": "e783b012",
   "metadata": {},
   "outputs": [
    {
     "name": "stdout",
     "output_type": "stream",
     "text": [
      "['Class Failure Count', 'Anonymized ID', 'Student Profile_DOM_1', 'Student Profile_DOM_2', 'Student Profile_INT', 'Delivery Mode_In Person', 'Delivery Mode_Online', 'Program schedule_Post Sec FT', 'Program schedule_Post Sec PT', 'Program schedule_Skill Development Programs', 'Age Range_21-25', 'Age Range_26-40', 'Age Range_> 40', 'Age Range_≤ 20', 'Gender_F', 'Gender_M', 'Gender_N', 'Semester_1', 'Semester_2', 'Semester_3', 'Semester_4', 'Semester_5', 'Semester_6', 'Semester_8', 'Previous Standing_Academic Issues', 'Previous Standing_Good Standing', 'Previous Standing_No record', 'First Gen_N', 'First Gen_Y', 'Catchment Area_In City', 'Catchment Area_In Region', 'Catchment Area_Out of Province', 'Catchment Area_Out of Region', 'Catchment Area_Overseas', 'Funding Code_MIN_1', 'Funding Code_MIN_2', 'Funding Code_SELF']\n"
     ]
    }
   ],
   "source": [
    "print(df_encoding.columns.tolist())"
   ]
  },
  {
   "cell_type": "code",
   "execution_count": 113,
   "id": "fd0490d8",
   "metadata": {},
   "outputs": [],
   "source": [
    "# Define the path and filename for the modified dataset\n",
    "filename = r\"C:\\Users\\jriquel1\\Desktop\\Failure Report\\Githhub\\df_encoding.csv\"\n",
    "\n",
    "# Save the modified DataFrame to a CSV file\n",
    "df_encoding.to_csv(filename, index=False)\n"
   ]
  },
  {
   "cell_type": "code",
   "execution_count": 128,
   "id": "e33d6ae0",
   "metadata": {},
   "outputs": [
    {
     "data": {
      "text/html": [
       "<div>\n",
       "<style scoped>\n",
       "    .dataframe tbody tr th:only-of-type {\n",
       "        vertical-align: middle;\n",
       "    }\n",
       "\n",
       "    .dataframe tbody tr th {\n",
       "        vertical-align: top;\n",
       "    }\n",
       "\n",
       "    .dataframe thead th {\n",
       "        text-align: right;\n",
       "    }\n",
       "</style>\n",
       "<table border=\"1\" class=\"dataframe\">\n",
       "  <thead>\n",
       "    <tr style=\"text-align: right;\">\n",
       "      <th></th>\n",
       "      <th>Class Failure Count</th>\n",
       "      <th>Anonymized ID</th>\n",
       "      <th>Student Profile_DOM_1</th>\n",
       "      <th>Student Profile_DOM_2</th>\n",
       "      <th>Student Profile_INT</th>\n",
       "      <th>Delivery Mode_In Person</th>\n",
       "      <th>Delivery Mode_Online</th>\n",
       "      <th>Program schedule_Post Sec FT</th>\n",
       "      <th>Program schedule_Post Sec PT</th>\n",
       "      <th>Program schedule_Skill Development Programs</th>\n",
       "      <th>...</th>\n",
       "      <th>First Gen_N</th>\n",
       "      <th>First Gen_Y</th>\n",
       "      <th>Catchment Area_In City</th>\n",
       "      <th>Catchment Area_In Region</th>\n",
       "      <th>Catchment Area_Out of Province</th>\n",
       "      <th>Catchment Area_Out of Region</th>\n",
       "      <th>Catchment Area_Overseas</th>\n",
       "      <th>Funding Code_MIN_1</th>\n",
       "      <th>Funding Code_MIN_2</th>\n",
       "      <th>Funding Code_SELF</th>\n",
       "    </tr>\n",
       "  </thead>\n",
       "  <tbody>\n",
       "    <tr>\n",
       "      <th>0</th>\n",
       "      <td>1</td>\n",
       "      <td>ID_1</td>\n",
       "      <td>0</td>\n",
       "      <td>1</td>\n",
       "      <td>0</td>\n",
       "      <td>0</td>\n",
       "      <td>1</td>\n",
       "      <td>0</td>\n",
       "      <td>0</td>\n",
       "      <td>1</td>\n",
       "      <td>...</td>\n",
       "      <td>1</td>\n",
       "      <td>0</td>\n",
       "      <td>0</td>\n",
       "      <td>1</td>\n",
       "      <td>0</td>\n",
       "      <td>0</td>\n",
       "      <td>0</td>\n",
       "      <td>0</td>\n",
       "      <td>0</td>\n",
       "      <td>1</td>\n",
       "    </tr>\n",
       "    <tr>\n",
       "      <th>1</th>\n",
       "      <td>1</td>\n",
       "      <td>ID_2</td>\n",
       "      <td>0</td>\n",
       "      <td>1</td>\n",
       "      <td>0</td>\n",
       "      <td>0</td>\n",
       "      <td>1</td>\n",
       "      <td>1</td>\n",
       "      <td>0</td>\n",
       "      <td>0</td>\n",
       "      <td>...</td>\n",
       "      <td>1</td>\n",
       "      <td>0</td>\n",
       "      <td>0</td>\n",
       "      <td>1</td>\n",
       "      <td>0</td>\n",
       "      <td>0</td>\n",
       "      <td>0</td>\n",
       "      <td>1</td>\n",
       "      <td>0</td>\n",
       "      <td>0</td>\n",
       "    </tr>\n",
       "    <tr>\n",
       "      <th>2</th>\n",
       "      <td>2</td>\n",
       "      <td>ID_3</td>\n",
       "      <td>1</td>\n",
       "      <td>0</td>\n",
       "      <td>0</td>\n",
       "      <td>1</td>\n",
       "      <td>0</td>\n",
       "      <td>1</td>\n",
       "      <td>0</td>\n",
       "      <td>0</td>\n",
       "      <td>...</td>\n",
       "      <td>1</td>\n",
       "      <td>0</td>\n",
       "      <td>1</td>\n",
       "      <td>0</td>\n",
       "      <td>0</td>\n",
       "      <td>0</td>\n",
       "      <td>0</td>\n",
       "      <td>0</td>\n",
       "      <td>0</td>\n",
       "      <td>1</td>\n",
       "    </tr>\n",
       "    <tr>\n",
       "      <th>3</th>\n",
       "      <td>1</td>\n",
       "      <td>ID_4</td>\n",
       "      <td>1</td>\n",
       "      <td>0</td>\n",
       "      <td>0</td>\n",
       "      <td>1</td>\n",
       "      <td>0</td>\n",
       "      <td>0</td>\n",
       "      <td>0</td>\n",
       "      <td>1</td>\n",
       "      <td>...</td>\n",
       "      <td>1</td>\n",
       "      <td>0</td>\n",
       "      <td>0</td>\n",
       "      <td>1</td>\n",
       "      <td>0</td>\n",
       "      <td>0</td>\n",
       "      <td>0</td>\n",
       "      <td>0</td>\n",
       "      <td>0</td>\n",
       "      <td>1</td>\n",
       "    </tr>\n",
       "    <tr>\n",
       "      <th>4</th>\n",
       "      <td>3</td>\n",
       "      <td>ID_5</td>\n",
       "      <td>0</td>\n",
       "      <td>1</td>\n",
       "      <td>0</td>\n",
       "      <td>1</td>\n",
       "      <td>0</td>\n",
       "      <td>1</td>\n",
       "      <td>0</td>\n",
       "      <td>0</td>\n",
       "      <td>...</td>\n",
       "      <td>0</td>\n",
       "      <td>1</td>\n",
       "      <td>0</td>\n",
       "      <td>1</td>\n",
       "      <td>0</td>\n",
       "      <td>0</td>\n",
       "      <td>0</td>\n",
       "      <td>0</td>\n",
       "      <td>1</td>\n",
       "      <td>0</td>\n",
       "    </tr>\n",
       "  </tbody>\n",
       "</table>\n",
       "<p>5 rows × 37 columns</p>\n",
       "</div>"
      ],
      "text/plain": [
       "   Class Failure Count Anonymized ID  Student Profile_DOM_1  \\\n",
       "0                    1          ID_1                      0   \n",
       "1                    1          ID_2                      0   \n",
       "2                    2          ID_3                      1   \n",
       "3                    1          ID_4                      1   \n",
       "4                    3          ID_5                      0   \n",
       "\n",
       "   Student Profile_DOM_2  Student Profile_INT  Delivery Mode_In Person  \\\n",
       "0                      1                    0                        0   \n",
       "1                      1                    0                        0   \n",
       "2                      0                    0                        1   \n",
       "3                      0                    0                        1   \n",
       "4                      1                    0                        1   \n",
       "\n",
       "   Delivery Mode_Online  Program schedule_Post Sec FT  \\\n",
       "0                     1                             0   \n",
       "1                     1                             1   \n",
       "2                     0                             1   \n",
       "3                     0                             0   \n",
       "4                     0                             1   \n",
       "\n",
       "   Program schedule_Post Sec PT  Program schedule_Skill Development Programs  \\\n",
       "0                             0                                            1   \n",
       "1                             0                                            0   \n",
       "2                             0                                            0   \n",
       "3                             0                                            1   \n",
       "4                             0                                            0   \n",
       "\n",
       "   ...  First Gen_N  First Gen_Y  Catchment Area_In City  \\\n",
       "0  ...            1            0                       0   \n",
       "1  ...            1            0                       0   \n",
       "2  ...            1            0                       1   \n",
       "3  ...            1            0                       0   \n",
       "4  ...            0            1                       0   \n",
       "\n",
       "   Catchment Area_In Region  Catchment Area_Out of Province  \\\n",
       "0                         1                               0   \n",
       "1                         1                               0   \n",
       "2                         0                               0   \n",
       "3                         1                               0   \n",
       "4                         1                               0   \n",
       "\n",
       "   Catchment Area_Out of Region  Catchment Area_Overseas  Funding Code_MIN_1  \\\n",
       "0                             0                        0                   0   \n",
       "1                             0                        0                   1   \n",
       "2                             0                        0                   0   \n",
       "3                             0                        0                   0   \n",
       "4                             0                        0                   0   \n",
       "\n",
       "   Funding Code_MIN_2  Funding Code_SELF  \n",
       "0                   0                  1  \n",
       "1                   0                  0  \n",
       "2                   0                  1  \n",
       "3                   0                  1  \n",
       "4                   1                  0  \n",
       "\n",
       "[5 rows x 37 columns]"
      ]
     },
     "execution_count": 128,
     "metadata": {},
     "output_type": "execute_result"
    }
   ],
   "source": [
    "df_encoding = pd.read_csv(r\"C:\\Users\\jriquel1\\Desktop\\\\Failure Report\\Githhub\\df_encoding.csv\")\n",
    "df_encoding.head(5)"
   ]
  },
  {
   "cell_type": "code",
   "execution_count": 129,
   "id": "3b911a4e",
   "metadata": {},
   "outputs": [
    {
     "name": "stdout",
     "output_type": "stream",
     "text": [
      "['Class Failure Count', 'Anonymized ID', 'Student Profile_DOM_1', 'Student Profile_DOM_2', 'Student Profile_INT', 'Delivery Mode_In Person', 'Delivery Mode_Online', 'Program schedule_Post Sec FT', 'Program schedule_Post Sec PT', 'Program schedule_Skill Development Programs', 'Age Range_21-25', 'Age Range_26-40', 'Age Range_> 40', 'Age Range_≤ 20', 'Gender_F', 'Gender_M', 'Gender_N', 'Semester_1', 'Semester_2', 'Semester_3', 'Semester_4', 'Semester_5', 'Semester_6', 'Semester_8', 'Previous Standing_Academic Issues', 'Previous Standing_Good Standing', 'Previous Standing_No record', 'First Gen_N', 'First Gen_Y', 'Catchment Area_In City', 'Catchment Area_In Region', 'Catchment Area_Out of Province', 'Catchment Area_Out of Region', 'Catchment Area_Overseas', 'Funding Code_MIN_1', 'Funding Code_MIN_2', 'Funding Code_SELF']\n"
     ]
    }
   ],
   "source": [
    "print(df_encoding.columns.tolist())"
   ]
  },
  {
   "cell_type": "code",
   "execution_count": 152,
   "id": "220433c9",
   "metadata": {
    "scrolled": false
   },
   "outputs": [
    {
     "name": "stdout",
     "output_type": "stream",
     "text": [
      "Class Failure Count                            1.000000\n",
      "Funding Code_MIN_2                             0.192705\n",
      "Student Profile_DOM_2                          0.185809\n",
      "Program schedule_Post Sec FT                   0.171704\n",
      "Semester_1                                     0.166565\n",
      "First Gen_Y                                    0.111229\n",
      "Catchment Area_In Region                       0.108072\n",
      "Previous Standing_Academic Issues              0.107745\n",
      "Catchment Area_In City                         0.090249\n",
      "Previous Standing_No record                    0.075115\n",
      "Gender_N                                       0.046712\n",
      "Funding Code_MIN_1                             0.042971\n",
      "Delivery Mode_Online                           0.041385\n",
      "Age Range_≤ 20                                 0.028289\n",
      "Age Range_> 40                                 0.021628\n",
      "Semester_2                                     0.020189\n",
      "Age Range_21-25                                0.007762\n",
      "Gender_F                                      -0.000296\n",
      "Semester_5                                    -0.004349\n",
      "Gender_M                                      -0.011980\n",
      "Semester_6                                    -0.028934\n",
      "Delivery Mode_In Person                       -0.041385\n",
      "Semester_3                                    -0.043853\n",
      "Age Range_26-40                               -0.054895\n",
      "Student Profile_DOM_1                         -0.061475\n",
      "Catchment Area_Out of Region                  -0.064404\n",
      "Catchment Area_Out of Province                -0.070870\n",
      "First Gen_N                                   -0.111229\n",
      "Program schedule_Skill Development Programs   -0.118256\n",
      "Program schedule_Post Sec PT                  -0.118841\n",
      "Catchment Area_Overseas                       -0.119057\n",
      "Student Profile_INT                           -0.119057\n",
      "Semester_8                                    -0.140621\n",
      "Semester_4                                    -0.143544\n",
      "Previous Standing_Good Standing               -0.174136\n",
      "Funding Code_SELF                             -0.175426\n",
      "Name: Class Failure Count, dtype: float64\n"
     ]
    }
   ],
   "source": [
    "# Ignorar todos los warnings\n",
    "warnings.filterwarnings('ignore')\n",
    "\n",
    "# Calculate the correlation matrix\n",
    "correlation_matrix = df_encoding.corr()\n",
    "\n",
    "# Extract the correlations of all features with 'F Grade Count'\n",
    "f_grade_correlations = correlation_matrix['Class Failure Count'].sort_values(ascending=False)\n",
    "\n",
    "# Print the correlations with 'F Grade Count'\n",
    "print(f_grade_correlations)"
   ]
  },
  {
   "cell_type": "markdown",
   "id": "21fcaf7c",
   "metadata": {},
   "source": [
    "### Top 3 Highest Correlations:\n",
    "\n",
    "* Funding Code_MIN_2  shows a correlation of 0.1927, indicating that the funding source may have a significant relationship with the number of failed classes.\n",
    "* Profile_DOM_2 has a correlation of 0.1858, suggesting that Indigenous residency status could be linked to academic challenges.\n",
    "* Program schedule_Post Sec FT  with a correlation of 0.1717, pointing towards full-time post-secondary enrollment as a factor in failed grades.\n",
    "\n",
    "### Top 3 Lowest (Negative) Correlations:\n",
    "\n",
    "* Previous Standing_Good Standing has a correlation of -0.1741, indicating that students with a record of good standing are less likely to have failed classes.\n",
    "* Funding Code_SELF with a correlation of -0.1754, suggesting that self-funded students might have fewer failed classes.\n",
    "* Semester_4 shows a correlation of -0.1435, implying that students in their fourth semester tend to have fewer failed grades.\n",
    "\n",
    "These correlations provide insights into factors that might influence the likelihood of failing classes, with financial backing, students profiles, and program schedule among the top influencers positively correlated with failed grades. Conversely, being in good standing, self-funding, and progressing to later semesters correlate negatively, indicating a lower likelihood of failing classes."
   ]
  },
  {
   "cell_type": "code",
   "execution_count": 131,
   "id": "0597e9e8",
   "metadata": {},
   "outputs": [],
   "source": [
    "from sklearn.cluster import KMeans\n",
    "import numpy as np\n",
    "\n",
    "df_kmeans = df_encoding.copy()"
   ]
  },
  {
   "cell_type": "code",
   "execution_count": 132,
   "id": "a1d0e22b",
   "metadata": {},
   "outputs": [],
   "source": [
    "# Assuming df is your DataFrame and 'F Grade Count' is the column you want to transform\n",
    "df_kmeans['Class Failure Count Rank'] = df_kmeans['Class Failure Count'].rank(method='average')\n"
   ]
  },
  {
   "cell_type": "code",
   "execution_count": 133,
   "id": "3934b43c",
   "metadata": {},
   "outputs": [],
   "source": [
    "# Prepare the data for clustering\n",
    "# Assume X is the DataFrame without the non-numeric ID column and the target variable if it's not part of the clustering\n",
    "X = df_kmeans.drop(['Anonymized ID', 'Class Failure Count'], axis=1)\n",
    "\n",
    "# Scale the features\n",
    "scaler = StandardScaler()\n",
    "X_scaled = scaler.fit_transform(X)"
   ]
  },
  {
   "cell_type": "code",
   "execution_count": 134,
   "id": "23033a88",
   "metadata": {},
   "outputs": [
    {
     "data": {
      "image/png": "[encoded data removed]",
      "text/plain": [
       "<Figure size 640x480 with 1 Axes>"
      ]
     },
     "metadata": {},
     "output_type": "display_data"
    }
   ],
   "source": [
    "from sklearn.cluster import KMeans\n",
    "import matplotlib.pyplot as plt\n",
    "\n",
    "wcss = []\n",
    "for i in range(1, 11):  # Example: trying out 1 to 10 clusters\n",
    "    kmeans = KMeans(n_clusters=i, init='k-means++', random_state=42, n_init=10)\n",
    "    kmeans.fit(X_scaled)\n",
    "    wcss.append(kmeans.inertia_)\n",
    "\n",
    "# Plotting the Elbow Method graph\n",
    "plt.plot(range(1, 11), wcss)\n",
    "plt.title('Elbow Method')\n",
    "plt.xlabel('Number of clusters')\n",
    "plt.ylabel('WCSS')\n",
    "plt.show()"
   ]
  },
  {
   "cell_type": "code",
   "execution_count": 135,
   "id": "4007c098",
   "metadata": {},
   "outputs": [],
   "source": [
    "# Replace `K` with the optimal number of clusters you determined\n",
    "optimal_k = 4\n",
    "kmeans = KMeans(n_clusters= optimal_k, init='k-means++', n_init= 10, random_state=42)\n",
    "y_kmeans = kmeans.fit_predict(X_scaled)\n",
    "\n",
    "\n",
    "# Adding the cluster labels to your original DataFrame\n",
    "df_kmeans['Cluster'] = y_kmeans"
   ]
  },
  {
   "cell_type": "code",
   "execution_count": 153,
   "id": "6e2caf19",
   "metadata": {
    "scrolled": true
   },
   "outputs": [
    {
     "name": "stdout",
     "output_type": "stream",
     "text": [
      "         Class Failure Count  Student Profile_DOM_1  Student Profile_DOM_2  \\\n",
      "Cluster                                                                      \n",
      "0                   3.316940               0.000000               1.000000   \n",
      "1                   2.497143               0.982857               0.017143   \n",
      "2                   1.506849               0.657534               0.342466   \n",
      "3                   2.120603               0.000000               0.000000   \n",
      "\n",
      "         Student Profile_INT  Delivery Mode_In Person  Delivery Mode_Online  \\\n",
      "Cluster                                                                       \n",
      "0                        0.0                 0.781421              0.218579   \n",
      "1                        0.0                 0.791429              0.208571   \n",
      "2                        0.0                 0.219178              0.780822   \n",
      "3                        1.0                 0.844221              0.155779   \n",
      "\n",
      "         Program schedule_Post Sec FT  Program schedule_Post Sec PT  \\\n",
      "Cluster                                                               \n",
      "0                            0.994536                      0.005464   \n",
      "1                            1.000000                      0.000000   \n",
      "2                            0.000000                      0.534247   \n",
      "3                            1.000000                      0.000000   \n",
      "\n",
      "         Program schedule_Skill Development Programs  Age Range_21-25  ...  \\\n",
      "Cluster                                                                ...   \n",
      "0                                           0.000000         0.289617  ...   \n",
      "1                                           0.000000         0.288571  ...   \n",
      "2                                           0.465753         0.123288  ...   \n",
      "3                                           0.000000         0.482412  ...   \n",
      "\n",
      "         Catchment Area_In City  Catchment Area_In Region  \\\n",
      "Cluster                                                     \n",
      "0                      0.590164                  0.377049   \n",
      "1                      0.582857                  0.105714   \n",
      "2                      0.465753                  0.356164   \n",
      "3                      0.000000                  0.000000   \n",
      "\n",
      "         Catchment Area_Out of Province  Catchment Area_Out of Region  \\\n",
      "Cluster                                                                 \n",
      "0                              0.005464                      0.027322   \n",
      "1                              0.045714                      0.265714   \n",
      "2                              0.068493                      0.109589   \n",
      "3                              0.000000                      0.000000   \n",
      "\n",
      "         Catchment Area_Overseas  Funding Code_MIN_1  Funding Code_MIN_2  \\\n",
      "Cluster                                                                    \n",
      "0                            0.0            0.234973            0.584699   \n",
      "1                            0.0            0.474286            0.000000   \n",
      "2                            0.0            0.041096            0.095890   \n",
      "3                            1.0            0.000000            0.000000   \n",
      "\n",
      "         Funding Code_SELF  Class Failure Count Rank  Cluster  \n",
      "Cluster                                                        \n",
      "0                 0.180328                499.532787        0  \n",
      "1                 0.525714                398.595714        1  \n",
      "2                 0.863014                290.910959        2  \n",
      "3                 1.000000                363.092965        3  \n",
      "\n",
      "[4 rows x 38 columns]\n"
     ]
    }
   ],
   "source": [
    "# Ignorar todos los warnings\n",
    "warnings.filterwarnings('ignore')\n",
    "\n",
    "# Ordena 'df_kmeans' por la columna 'Cluster'\n",
    "df_kmeans = df_kmeans.sort_values('Cluster')\n",
    "\n",
    "# Review the distribution of 'F Grade Count' or other features across clusters\n",
    "cluster_analysis = df_kmeans.groupby('Cluster').mean()\n",
    "\n",
    "# Add the cluster labels to your 'cluster_analysis' DataFrame\n",
    "cluster_analysis['Cluster'] = df_kmeans['Cluster'].unique()\n",
    "\n",
    "print(cluster_analysis)"
   ]
  },
  {
   "cell_type": "markdown",
   "id": "a9a47ec7",
   "metadata": {},
   "source": [
    "# The K-means clustering algorithm identified four distinct groups within the student population, each with unique challenges and characteristics as detailed below:\n",
    "\n",
    "* **Group A: High Academic Challenge**\n",
    "Average failure rate: 3.42, indicating the highest level of academic challenge among the clusters..\n",
    "\n",
    "Key Features: This cluster predominantly consists of DOM_2 students (98.2%), with the majority enrolled in full-time post-secondary programs (99.4%). Most of this group prefers in-person learning (75.9%).\n",
    "\n",
    "* **Group B: Mixed Academic Outcomes**\n",
    "Average failure rate: 1.51, reflecting mixed academic outcomes with relatively fewer challenges.\n",
    "\n",
    " Key Features: Comprises a balanced mix of DOM_1(65.8%) and DOM_2 (34.2%) students. There is a substantial engagement in online learning (78.1%), with significant participation in both part-time programs (53.4%) and skill development programs (46.6%).\n",
    "\n",
    "* **Group C: Moderate Academic Challenge**\n",
    "Average failure rate: 2.48, denoting moderate academic challenges.\n",
    "\n",
    "Key Features: Predominantly composed of DOM_1 students (96.8%), with a strong preference for in-person learning (79.4%). All students in this cluster are enrolled in full-time post-secondary programs.\n",
    "\n",
    "* **Group D: Diverse Educational Engagement**\n",
    "\n",
    "Average failure rate: 2.15, indicating slightly lower academic challenges with diverse educational engagement.\n",
    "\n",
    "Key Features: A high proportion of International students (93.4%) characterizes this cluster. The majority prefer in-person delivery mode (85.4%), and all are enrolled in full-time post-secondary programs."
   ]
  },
  {
   "cell_type": "code",
   "execution_count": 138,
   "id": "b54cf0ef",
   "metadata": {
    "scrolled": true
   },
   "outputs": [
    {
     "data": {
      "text/html": [
       "<div>\n",
       "<style scoped>\n",
       "    .dataframe tbody tr th:only-of-type {\n",
       "        vertical-align: middle;\n",
       "    }\n",
       "\n",
       "    .dataframe tbody tr th {\n",
       "        vertical-align: top;\n",
       "    }\n",
       "\n",
       "    .dataframe thead th {\n",
       "        text-align: right;\n",
       "    }\n",
       "</style>\n",
       "<table border=\"1\" class=\"dataframe\">\n",
       "  <thead>\n",
       "    <tr style=\"text-align: right;\">\n",
       "      <th></th>\n",
       "      <th>Class Failure Count</th>\n",
       "      <th>Student Profile_DOM_1</th>\n",
       "      <th>Student Profile_DOM_2</th>\n",
       "      <th>Student Profile_INT</th>\n",
       "      <th>Delivery Mode_In Person</th>\n",
       "      <th>Delivery Mode_Online</th>\n",
       "      <th>Program schedule_Post Sec FT</th>\n",
       "      <th>Program schedule_Post Sec PT</th>\n",
       "      <th>Program schedule_Skill Development Programs</th>\n",
       "      <th>Age Range_21-25</th>\n",
       "      <th>...</th>\n",
       "      <th>Catchment Area_In City</th>\n",
       "      <th>Catchment Area_In Region</th>\n",
       "      <th>Catchment Area_Out of Province</th>\n",
       "      <th>Catchment Area_Out of Region</th>\n",
       "      <th>Catchment Area_Overseas</th>\n",
       "      <th>Funding Code_MIN_1</th>\n",
       "      <th>Funding Code_MIN_2</th>\n",
       "      <th>Funding Code_SELF</th>\n",
       "      <th>Class Failure Count Rank</th>\n",
       "      <th>Cluster</th>\n",
       "    </tr>\n",
       "    <tr>\n",
       "      <th>Cluster</th>\n",
       "      <th></th>\n",
       "      <th></th>\n",
       "      <th></th>\n",
       "      <th></th>\n",
       "      <th></th>\n",
       "      <th></th>\n",
       "      <th></th>\n",
       "      <th></th>\n",
       "      <th></th>\n",
       "      <th></th>\n",
       "      <th></th>\n",
       "      <th></th>\n",
       "      <th></th>\n",
       "      <th></th>\n",
       "      <th></th>\n",
       "      <th></th>\n",
       "      <th></th>\n",
       "      <th></th>\n",
       "      <th></th>\n",
       "      <th></th>\n",
       "      <th></th>\n",
       "    </tr>\n",
       "  </thead>\n",
       "  <tbody>\n",
       "    <tr>\n",
       "      <th>0</th>\n",
       "      <td>3.316940</td>\n",
       "      <td>0.000000</td>\n",
       "      <td>1.000000</td>\n",
       "      <td>0.0</td>\n",
       "      <td>0.781421</td>\n",
       "      <td>0.218579</td>\n",
       "      <td>0.994536</td>\n",
       "      <td>0.005464</td>\n",
       "      <td>0.000000</td>\n",
       "      <td>0.289617</td>\n",
       "      <td>...</td>\n",
       "      <td>0.590164</td>\n",
       "      <td>0.377049</td>\n",
       "      <td>0.005464</td>\n",
       "      <td>0.027322</td>\n",
       "      <td>0.0</td>\n",
       "      <td>0.234973</td>\n",
       "      <td>0.584699</td>\n",
       "      <td>0.180328</td>\n",
       "      <td>499.532787</td>\n",
       "      <td>0</td>\n",
       "    </tr>\n",
       "    <tr>\n",
       "      <th>1</th>\n",
       "      <td>2.497143</td>\n",
       "      <td>0.982857</td>\n",
       "      <td>0.017143</td>\n",
       "      <td>0.0</td>\n",
       "      <td>0.791429</td>\n",
       "      <td>0.208571</td>\n",
       "      <td>1.000000</td>\n",
       "      <td>0.000000</td>\n",
       "      <td>0.000000</td>\n",
       "      <td>0.288571</td>\n",
       "      <td>...</td>\n",
       "      <td>0.582857</td>\n",
       "      <td>0.105714</td>\n",
       "      <td>0.045714</td>\n",
       "      <td>0.265714</td>\n",
       "      <td>0.0</td>\n",
       "      <td>0.474286</td>\n",
       "      <td>0.000000</td>\n",
       "      <td>0.525714</td>\n",
       "      <td>398.595714</td>\n",
       "      <td>1</td>\n",
       "    </tr>\n",
       "    <tr>\n",
       "      <th>2</th>\n",
       "      <td>1.506849</td>\n",
       "      <td>0.657534</td>\n",
       "      <td>0.342466</td>\n",
       "      <td>0.0</td>\n",
       "      <td>0.219178</td>\n",
       "      <td>0.780822</td>\n",
       "      <td>0.000000</td>\n",
       "      <td>0.534247</td>\n",
       "      <td>0.465753</td>\n",
       "      <td>0.123288</td>\n",
       "      <td>...</td>\n",
       "      <td>0.465753</td>\n",
       "      <td>0.356164</td>\n",
       "      <td>0.068493</td>\n",
       "      <td>0.109589</td>\n",
       "      <td>0.0</td>\n",
       "      <td>0.041096</td>\n",
       "      <td>0.095890</td>\n",
       "      <td>0.863014</td>\n",
       "      <td>290.910959</td>\n",
       "      <td>2</td>\n",
       "    </tr>\n",
       "    <tr>\n",
       "      <th>3</th>\n",
       "      <td>2.120603</td>\n",
       "      <td>0.000000</td>\n",
       "      <td>0.000000</td>\n",
       "      <td>1.0</td>\n",
       "      <td>0.844221</td>\n",
       "      <td>0.155779</td>\n",
       "      <td>1.000000</td>\n",
       "      <td>0.000000</td>\n",
       "      <td>0.000000</td>\n",
       "      <td>0.482412</td>\n",
       "      <td>...</td>\n",
       "      <td>0.000000</td>\n",
       "      <td>0.000000</td>\n",
       "      <td>0.000000</td>\n",
       "      <td>0.000000</td>\n",
       "      <td>1.0</td>\n",
       "      <td>0.000000</td>\n",
       "      <td>0.000000</td>\n",
       "      <td>1.000000</td>\n",
       "      <td>363.092965</td>\n",
       "      <td>3</td>\n",
       "    </tr>\n",
       "  </tbody>\n",
       "</table>\n",
       "<p>4 rows × 38 columns</p>\n",
       "</div>"
      ],
      "text/plain": [
       "         Class Failure Count  Student Profile_DOM_1  Student Profile_DOM_2  \\\n",
       "Cluster                                                                      \n",
       "0                   3.316940               0.000000               1.000000   \n",
       "1                   2.497143               0.982857               0.017143   \n",
       "2                   1.506849               0.657534               0.342466   \n",
       "3                   2.120603               0.000000               0.000000   \n",
       "\n",
       "         Student Profile_INT  Delivery Mode_In Person  Delivery Mode_Online  \\\n",
       "Cluster                                                                       \n",
       "0                        0.0                 0.781421              0.218579   \n",
       "1                        0.0                 0.791429              0.208571   \n",
       "2                        0.0                 0.219178              0.780822   \n",
       "3                        1.0                 0.844221              0.155779   \n",
       "\n",
       "         Program schedule_Post Sec FT  Program schedule_Post Sec PT  \\\n",
       "Cluster                                                               \n",
       "0                            0.994536                      0.005464   \n",
       "1                            1.000000                      0.000000   \n",
       "2                            0.000000                      0.534247   \n",
       "3                            1.000000                      0.000000   \n",
       "\n",
       "         Program schedule_Skill Development Programs  Age Range_21-25  ...  \\\n",
       "Cluster                                                                ...   \n",
       "0                                           0.000000         0.289617  ...   \n",
       "1                                           0.000000         0.288571  ...   \n",
       "2                                           0.465753         0.123288  ...   \n",
       "3                                           0.000000         0.482412  ...   \n",
       "\n",
       "         Catchment Area_In City  Catchment Area_In Region  \\\n",
       "Cluster                                                     \n",
       "0                      0.590164                  0.377049   \n",
       "1                      0.582857                  0.105714   \n",
       "2                      0.465753                  0.356164   \n",
       "3                      0.000000                  0.000000   \n",
       "\n",
       "         Catchment Area_Out of Province  Catchment Area_Out of Region  \\\n",
       "Cluster                                                                 \n",
       "0                              0.005464                      0.027322   \n",
       "1                              0.045714                      0.265714   \n",
       "2                              0.068493                      0.109589   \n",
       "3                              0.000000                      0.000000   \n",
       "\n",
       "         Catchment Area_Overseas  Funding Code_MIN_1  Funding Code_MIN_2  \\\n",
       "Cluster                                                                    \n",
       "0                            0.0            0.234973            0.584699   \n",
       "1                            0.0            0.474286            0.000000   \n",
       "2                            0.0            0.041096            0.095890   \n",
       "3                            1.0            0.000000            0.000000   \n",
       "\n",
       "         Funding Code_SELF  Class Failure Count Rank  Cluster  \n",
       "Cluster                                                        \n",
       "0                 0.180328                499.532787        0  \n",
       "1                 0.525714                398.595714        1  \n",
       "2                 0.863014                290.910959        2  \n",
       "3                 1.000000                363.092965        3  \n",
       "\n",
       "[4 rows x 38 columns]"
      ]
     },
     "execution_count": 138,
     "metadata": {},
     "output_type": "execute_result"
    }
   ],
   "source": [
    "cluster_analysis.head()"
   ]
  },
  {
   "cell_type": "markdown",
   "id": "c1d4db20",
   "metadata": {},
   "source": [
    "# The upcoming code snippets will delve into the composition of each identified cluster, providing granular insight into the detailed submetrics that characterize their academic profiles."
   ]
  },
  {
   "cell_type": "code",
   "execution_count": 139,
   "id": "5372cb27",
   "metadata": {},
   "outputs": [
    {
     "name": "stdout",
     "output_type": "stream",
     "text": [
      "Class Failure Count  1.506849  2.120603  2.497143  3.316940\n",
      "Cluster                                                    \n",
      "0                           0         0         0         1\n",
      "1                           0         0         1         0\n",
      "2                           1         0         0         0\n",
      "3                           0         1         0         0\n"
     ]
    }
   ],
   "source": [
    "cross_tab = pd.crosstab(cluster_analysis['Cluster'], cluster_analysis['Class Failure Count'])\n",
    "\n",
    "print(cross_tab)"
   ]
  },
  {
   "cell_type": "code",
   "execution_count": 140,
   "id": "278e488b",
   "metadata": {},
   "outputs": [],
   "source": [
    "# Filter the DataFrame to only show rows for cluster 1\n",
    "cluster_0 = df_kmeans[df_kmeans['Cluster'] == 0]\n",
    "cluster_1 = df_kmeans[df_kmeans['Cluster'] == 1]\n",
    "cluster_2 = df_kmeans[df_kmeans['Cluster'] == 2]\n",
    "cluster_3 = df_kmeans[df_kmeans['Cluster'] == 3]"
   ]
  },
  {
   "cell_type": "code",
   "execution_count": 154,
   "id": "f98640e0",
   "metadata": {
    "scrolled": false
   },
   "outputs": [
    {
     "name": "stdout",
     "output_type": "stream",
     "text": [
      "                                              Cluster 0   Cluster 1  \\\n",
      "Class Failure Count                            3.316940    2.497143   \n",
      "Student Profile_DOM_1                          0.000000    0.982857   \n",
      "Student Profile_DOM_2                          1.000000    0.017143   \n",
      "Student Profile_INT                            0.000000    0.000000   \n",
      "Delivery Mode_In Person                        0.781421    0.791429   \n",
      "Delivery Mode_Online                           0.218579    0.208571   \n",
      "Program schedule_Post Sec FT                   0.994536    1.000000   \n",
      "Program schedule_Post Sec PT                   0.005464    0.000000   \n",
      "Program schedule_Skill Development Programs    0.000000    0.000000   \n",
      "Age Range_21-25                                0.289617    0.288571   \n",
      "Age Range_26-40                                0.262295    0.171429   \n",
      "Age Range_> 40                                 0.103825    0.045714   \n",
      "Age Range_≤ 20                                 0.344262    0.494286   \n",
      "Gender_F                                       0.530055    0.400000   \n",
      "Gender_M                                       0.442623    0.585714   \n",
      "Gender_N                                       0.027322    0.014286   \n",
      "Semester_1                                     0.765027    0.648571   \n",
      "Semester_2                                     0.010929    0.034286   \n",
      "Semester_3                                     0.213115    0.182857   \n",
      "Semester_4                                     0.005464    0.120000   \n",
      "Semester_5                                     0.005464    0.011429   \n",
      "Semester_6                                     0.000000    0.002857   \n",
      "Semester_8                                     0.000000    0.000000   \n",
      "Previous Standing_Academic Issues              0.229508    0.180000   \n",
      "Previous Standing_Good Standing                0.338798    0.345714   \n",
      "Previous Standing_No record                    0.431694    0.474286   \n",
      "First Gen_N                                    0.721311    0.842857   \n",
      "First Gen_Y                                    0.278689    0.157143   \n",
      "Catchment Area_In City                         0.590164    0.582857   \n",
      "Catchment Area_In Region                       0.377049    0.105714   \n",
      "Catchment Area_Out of Province                 0.005464    0.045714   \n",
      "Catchment Area_Out of Region                   0.027322    0.265714   \n",
      "Catchment Area_Overseas                        0.000000    0.000000   \n",
      "Funding Code_MIN_1                             0.234973    0.474286   \n",
      "Funding Code_MIN_2                             0.584699    0.000000   \n",
      "Funding Code_SELF                              0.180328    0.525714   \n",
      "Class Failure Count Rank                     499.532787  398.595714   \n",
      "Cluster                                        0.000000    1.000000   \n",
      "\n",
      "                                              Cluster 2   Cluster 3  \n",
      "Class Failure Count                            1.506849    2.120603  \n",
      "Student Profile_DOM_1                          0.657534    0.000000  \n",
      "Student Profile_DOM_2                          0.342466    0.000000  \n",
      "Student Profile_INT                            0.000000    1.000000  \n",
      "Delivery Mode_In Person                        0.219178    0.844221  \n",
      "Delivery Mode_Online                           0.780822    0.155779  \n",
      "Program schedule_Post Sec FT                   0.000000    1.000000  \n",
      "Program schedule_Post Sec PT                   0.534247    0.000000  \n",
      "Program schedule_Skill Development Programs    0.465753    0.000000  \n",
      "Age Range_21-25                                0.123288    0.482412  \n",
      "Age Range_26-40                                0.438356    0.195980  \n",
      "Age Range_> 40                                 0.205479    0.020101  \n",
      "Age Range_≤ 20                                 0.232877    0.301508  \n",
      "Gender_F                                       0.630137    0.326633  \n",
      "Gender_M                                       0.315068    0.673367  \n",
      "Gender_N                                       0.054795    0.000000  \n",
      "Semester_1                                     0.109589    0.577889  \n",
      "Semester_2                                     0.109589    0.060302  \n",
      "Semester_3                                     0.136986    0.356784  \n",
      "Semester_4                                     0.000000    0.000000  \n",
      "Semester_5                                     0.000000    0.000000  \n",
      "Semester_6                                     0.000000    0.000000  \n",
      "Semester_8                                     0.643836    0.005025  \n",
      "Previous Standing_Academic Issues              0.205479    0.221106  \n",
      "Previous Standing_Good Standing                0.232877    0.271357  \n",
      "Previous Standing_No record                    0.561644    0.507538  \n",
      "First Gen_N                                    0.835616    1.000000  \n",
      "First Gen_Y                                    0.164384    0.000000  \n",
      "Catchment Area_In City                         0.465753    0.000000  \n",
      "Catchment Area_In Region                       0.356164    0.000000  \n",
      "Catchment Area_Out of Province                 0.068493    0.000000  \n",
      "Catchment Area_Out of Region                   0.109589    0.000000  \n",
      "Catchment Area_Overseas                        0.000000    1.000000  \n",
      "Funding Code_MIN_1                             0.041096    0.000000  \n",
      "Funding Code_MIN_2                             0.095890    0.000000  \n",
      "Funding Code_SELF                              0.863014    1.000000  \n",
      "Class Failure Count Rank                     290.910959  363.092965  \n",
      "Cluster                                        2.000000    3.000000  \n"
     ]
    }
   ],
   "source": [
    "# Ignorar todos los warnings\n",
    "warnings.filterwarnings('ignore')\n",
    "\n",
    "# Calculate the mean values for all clusters and store them in a dictionary\n",
    "clusters_mean = {f'Cluster {i}': df_kmeans[df_kmeans['Cluster'] == i].mean() for i in range(optimal_k)}\n",
    "\n",
    "# Convert the dictionary to a DataFrame\n",
    "df_clusters = pd.DataFrame(clusters_mean)\n",
    "\n",
    "# Print the DataFrame\n",
    "print(df_clusters)"
   ]
  },
  {
   "cell_type": "markdown",
   "id": "5f78d724",
   "metadata": {},
   "source": [
    "### As I approach the Ordinary Least Squares (OLS) Regression analysis, my objective isn't to pinpoint direct, linear relationships but rather to uncover associative trends and patterns within our dataset. Recognizing that academic performance is influenced by a complex interplay of factors, this analysis will help identify which variables hold the most weight in relation to class failure rates and which may warrant further investigation."
   ]
  },
  {
   "cell_type": "code",
   "execution_count": 150,
   "id": "39a9fa1a",
   "metadata": {
    "scrolled": false
   },
   "outputs": [
    {
     "name": "stdout",
     "output_type": "stream",
     "text": [
      "                             OLS Regression Results                            \n",
      "===============================================================================\n",
      "Dep. Variable:     Class Failure Count   R-squared:                       0.154\n",
      "Model:                             OLS   Adj. R-squared:                  0.122\n",
      "Method:                  Least Squares   F-statistic:                     4.889\n",
      "Date:                 Fri, 15 Mar 2024   Prob (F-statistic):           1.86e-12\n",
      "Time:                         11:07:44   Log-Likelihood:                -1243.9\n",
      "No. Observations:                  644   AIC:                             2536.\n",
      "Df Residuals:                      620   BIC:                             2643.\n",
      "Df Model:                           23                                         \n",
      "Covariance Type:             nonrobust                                         \n",
      "===============================================================================================================\n",
      "                                                  coef    std err          t      P>|t|      [0.025      0.975]\n",
      "---------------------------------------------------------------------------------------------------------------\n",
      "const                                           0.4137      0.077      5.357      0.000       0.262       0.565\n",
      "Student Profile_DOM_1                           0.1408      0.110      1.280      0.201      -0.075       0.357\n",
      "Student Profile_DOM_2                           0.3948      0.135      2.934      0.003       0.131       0.659\n",
      "Student Profile_INT                            -0.1220      0.092     -1.331      0.184      -0.302       0.058\n",
      "Delivery Mode_In Person                        -0.0223      0.103     -0.217      0.828      -0.224       0.179\n",
      "Delivery Mode_Online                            0.4359      0.101      4.315      0.000       0.238       0.634\n",
      "Program schedule_Post Sec FT                    1.3316      0.285      4.669      0.000       0.772       1.892\n",
      "Program schedule_Post Sec PT                   -0.2062      0.247     -0.833      0.405      -0.692       0.280\n",
      "Program schedule_Skill Development Programs    -0.7118      0.401     -1.774      0.077      -1.500       0.076\n",
      "Age Range_21-25                                 0.2574      0.129      1.990      0.047       0.003       0.511\n",
      "Age Range_26-40                                 0.0687      0.138      0.498      0.618      -0.202       0.339\n",
      "Age Range_> 40                                  0.0338      0.221      0.153      0.878      -0.400       0.467\n",
      "Age Range_≤ 20                                  0.0537      0.135      0.398      0.691      -0.211       0.319\n",
      "Gender_F                                       -0.1432      0.175     -0.816      0.415      -0.488       0.201\n",
      "Gender_M                                        0.0241      0.175      0.138      0.890      -0.319       0.368\n",
      "Gender_N                                        0.5327      0.353      1.510      0.131      -0.160       1.225\n",
      "Semester_1                                     -0.0233      0.238     -0.098      0.922      -0.490       0.444\n",
      "Semester_2                                      0.7316      0.323      2.265      0.024       0.097       1.366\n",
      "Semester_3                                      0.1381      0.222      0.623      0.533      -0.297       0.573\n",
      "Semester_4                                     -0.4760      0.335     -1.421      0.156      -1.134       0.182\n",
      "Semester_5                                     -0.0770      0.739     -0.104      0.917      -1.529       1.375\n",
      "Semester_6                                  -6.428e-17   2.92e-17     -2.202      0.028   -1.22e-16   -6.96e-18\n",
      "Semester_8                                      0.1203      0.468      0.257      0.797      -0.798       1.039\n",
      "Previous Standing_Academic Issues               0.3884      0.127      3.068      0.002       0.140       0.637\n",
      "Previous Standing_Good Standing                -0.3553      0.124     -2.859      0.004      -0.599      -0.111\n",
      "Previous Standing_No record                     0.3806      0.137      2.782      0.006       0.112       0.649\n",
      "First Gen_N                                     0.1239      0.101      1.232      0.218      -0.074       0.321\n",
      "First Gen_Y                                     0.2898      0.120      2.411      0.016       0.054       0.526\n",
      "Catchment Area_In City                          0.4224      0.143      2.945      0.003       0.141       0.704\n",
      "Catchment Area_In Region                        0.4249      0.179      2.369      0.018       0.073       0.777\n",
      "Catchment Area_Out of Province                 -0.1122      0.316     -0.355      0.723      -0.733       0.509\n",
      "Catchment Area_Out of Region                   -0.1995      0.193     -1.031      0.303      -0.579       0.180\n",
      "Catchment Area_Overseas                        -0.1220      0.092     -1.331      0.184      -0.302       0.058\n",
      "Funding Code_MIN_1                              0.0141      0.134      0.106      0.916      -0.249       0.277\n",
      "Funding Code_MIN_2                              0.3970      0.182      2.183      0.029       0.040       0.754\n",
      "Funding Code_SELF                               0.0025      0.130      0.020      0.984      -0.253       0.258\n",
      "==============================================================================\n",
      "Omnibus:                       55.531   Durbin-Watson:                   2.101\n",
      "Prob(Omnibus):                  0.000   Jarque-Bera (JB):               68.952\n",
      "Skew:                           0.800   Prob(JB):                     1.07e-15\n",
      "Kurtosis:                       2.910   Cond. No.                     1.64e+16\n",
      "==============================================================================\n",
      "\n",
      "Notes:\n",
      "[1] Standard Errors assume that the covariance matrix of the errors is correctly specified.\n",
      "[2] The smallest eigenvalue is 1.44e-29. This might indicate that there are\n",
      "strong multicollinearity problems or that the design matrix is singular.\n"
     ]
    }
   ],
   "source": [
    "df_encoding = pd.read_csv(\"C:\\\\Users\\\\jriquel1\\\\Desktop\\\\Failure Report\\\\Githhub\\\\df_encoding.csv\")\n",
    "\n",
    "# Separar las características (X) de la variable objetivo (y)\n",
    "X = df_encoding.drop(['Class Failure Count', 'Anonymized ID'], axis=1)  # Añade 'Anonymized ID' o el nombre de la columna de ID\n",
    "y = df_encoding['Class Failure Count']\n",
    "\n",
    "# Dividir los datos en conjuntos de entrenamiento y prueba\n",
    "X_train, X_test, y_train, y_test = train_test_split(X, y, test_size=0.2, random_state=42)\n",
    "\n",
    "# Añadir una constante al conjunto de entrenamiento\n",
    "X_train_with_const = sm.add_constant(X_train)\n",
    "\n",
    "# Ajustar el modelo OLS (Mínimos Cuadrados Ordinarios) a los datos de entrenamiento\n",
    "model = sm.OLS(y_train, X_train_with_const).fit()\n",
    "\n",
    "# Imprimir el resumen del modelo para ver los resultados\n",
    "print(model.summary())"
   ]
  },
  {
   "cell_type": "markdown",
   "id": "19c86ea3",
   "metadata": {},
   "source": [
    "# First Conclusion\n",
    "\n",
    "In carrying out the OLS Regression analysis, I noticed a variety of statistical strengths in the relationships between features and failure rates. Not every feature exhibited a strong link, as the mixed p-values indicated. This complexity in academic performance resonates with my understanding that it cannot be distilled to simple, one-dimensional causes. Personal situations, institutional frameworks, and external variables all play roles, making it crucial to consider the full scope of influencing factors.\n",
    "\n",
    "Hence, my focus is not on extracting direct causal relationships but on discerning insightful patterns that might guide the development of nuanced academic support strategies. This holistic perspective acknowledges the intricacies of educational journeys and how they affect academic outcomes. The insights from this analysis underscore the necessity for well-rounded support systems that cater to the diverse factors underpinning student success."
   ]
  },
  {
   "cell_type": "markdown",
   "id": "9f9b9e14",
   "metadata": {},
   "source": [
    "## Initial Insights and Next Steps in Academic Performance Analysis\n",
    "\n",
    "In this first phase of my analysis, I’ve uncovered valuable insights that shed light on academic performance dynamics. This investigation has highlighted pivotal demographic and behavioral indicators that significantly correlate with student failure rates. Although this is my initial foray into such a complex dataset, the results have provided a substantial foundation from which to build a more nuanced understanding over time.\n",
    "\n",
    "For the subsequent part of my project, which I'll conduct in a separate notebook, I'll dive into specific subsets of the data. I’ll also evaluate academic alert reports that could offer additional perspectives on the patterns identified in this initial analysis. My strategy for this next step involves a detailed risk stratification for academic intervention:\n",
    "\n",
    "* **At Risk: Identifying students with 1 or 2 failed classes for preliminary intervention.**\n",
    "\n",
    "* **Elevated Risk: Pinpointing students with 3 or more failed classes in the upper grade range for more focused support.**\n",
    "\n",
    "* **Critical Risk: Highlighting those with multiple class failures and very low grades as a high priority for immediate support.**\n",
    "\n",
    "This risk categorization is crucial for targeting the right students with the appropriate level of academic assistance. By maintaining the same analytical lens used in the class failure rates assessment, I aim to uncover and understand commonalities across different student experiences. I'm committed to refining our academic support strategies, making them as informed and effective as possible.\n",
    "\n",
    "## Check out Part Two for further analysis and detailed insights!"
   ]
  },
  {
   "cell_type": "code",
   "execution_count": null,
   "id": "d8a61059",
   "metadata": {},
   "outputs": [],
   "source": []
  }
 ],
 "metadata": {
  "kernelspec": {
   "display_name": "Python 3 (ipykernel)",
   "language": "python",
   "name": "python3"
  },
  "language_info": {
   "codemirror_mode": {
    "name": "ipython",
    "version": 3
   },
   "file_extension": ".py",
   "mimetype": "text/x-python",
   "name": "python",
   "nbconvert_exporter": "python",
   "pygments_lexer": "ipython3",
   "version": "3.11.4"
  }
 },
 "nbformat": 4,
 "nbformat_minor": 5
}
